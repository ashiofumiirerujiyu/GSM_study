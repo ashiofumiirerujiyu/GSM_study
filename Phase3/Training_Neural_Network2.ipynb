{
 "cells": [
  {
   "cell_type": "markdown",
   "metadata": {},
   "source": [
    "# Fix Seed"
   ]
  },
  {
   "cell_type": "code",
   "execution_count": 1,
   "metadata": {},
   "outputs": [],
   "source": [
    "import random\n",
    "import torch\n",
    "import numpy as np\n",
    "\n",
    "# 시드 고정 함수 정의\n",
    "def seed_everything(seed=5):\n",
    "    # Python의 기본 random 모듈 시드 설정\n",
    "    random.seed(seed)\n",
    "    \n",
    "    # NumPy의 난수 생성 시드 설정\n",
    "    np.random.seed(seed)\n",
    "    \n",
    "    # PyTorch의 CPU 난수 생성 시드 설정\n",
    "    torch.manual_seed(seed)\n",
    "    \n",
    "    # CUDA가 사용 가능한 경우 GPU 난수 생성 시드 설정\n",
    "    if torch.cuda.is_available():\n",
    "        # 현재 GPU 장치에 대한 시드 설정\n",
    "        torch.cuda.manual_seed(seed)\n",
    "        # 모든 GPU 장치에 대한 시드 설정\n",
    "        torch.cuda.manual_seed_all(seed)\n",
    "\n",
    "    # PyTorch의 CuDNN 설정을 통해 재현성을 보장\n",
    "    # CuDNN이 제공하는 최적화가 정확하게 재현될 수 있도록 보장\n",
    "    torch.backends.cudnn.deterministic = True  # 고정된 알고리즘만 사용하도록 설정\n",
    "    torch.backends.cudnn.benchmark = False  # 입력 크기가 고정된 경우 최적화 비활성화\n",
    "\n",
    "seed_everything()"
   ]
  },
  {
   "cell_type": "markdown",
   "metadata": {},
   "source": [
    "# Dataset"
   ]
  },
  {
   "cell_type": "code",
   "execution_count": 2,
   "metadata": {},
   "outputs": [],
   "source": [
    "import os\n",
    "from PIL import Image\n",
    "from torch.utils.data import Dataset, DataLoader\n",
    "\n",
    "\n",
    "class CustomDataset(Dataset):\n",
    "    def __init__(self, dir_paths, transform=None):\n",
    "        self.images = []\n",
    "        self.labels = []\n",
    "        self.transform = transform\n",
    "\n",
    "        for dir_path in dir_paths:\n",
    "            label = os.path.basename(dir_path) # 'cat' 또는 'dog'\n",
    "            for file_name in os.listdir(dir_path):\n",
    "                image_path = os.path.join(dir_path, file_name)\n",
    "                image = Image.open(image_path).convert('RGB')\n",
    "                if self.transform:\n",
    "                    image = self.transform(image)\n",
    "                self.images.append(image)\n",
    "                self.labels.append(label)\n",
    "                \n",
    "        # 레이블 인코딩\n",
    "        self.label_to_index = {'cat': 0, 'dog': 1}\n",
    "        self.labels = [self.label_to_index[label] for label in self.labels]\n",
    "\n",
    "    def __len__(self):\n",
    "        return len(self.images)\n",
    "\n",
    "    def __getitem__(self, idx):\n",
    "        image = self.images[idx]\n",
    "        label = self.labels[idx]\n",
    "        image = image.float() / 255.0  # Normalize to [0, 1]\n",
    "\n",
    "        return image, label\n"
   ]
  },
  {
   "cell_type": "code",
   "execution_count": 3,
   "metadata": {},
   "outputs": [
    {
     "name": "stdout",
     "output_type": "stream",
     "text": [
      "학습 배치 이미지 크기: torch.Size([16, 3, 32, 32])\n",
      "학습 배치 레이블 크기: torch.Size([16])\n",
      "검증 배치 이미지 크기: torch.Size([16, 3, 32, 32])\n",
      "검증 배치 레이블 크기: torch.Size([16])\n",
      "테스트 배치 이미지 크기: torch.Size([16, 3, 32, 32])\n",
      "테스트 배치 레이블 크기: torch.Size([16])\n"
     ]
    }
   ],
   "source": [
    "from torchvision import transforms\n",
    "\n",
    "# 데이터 전처리 정의 (Data Augmentation 추가)\n",
    "transform = transforms.Compose([\n",
    "    transforms.RandomHorizontalFlip(),\n",
    "    transforms.RandomVerticalFlip(),\n",
    "    transforms.RandomRotation(45),\n",
    "    transforms.RandomResizedCrop(32, scale=(0.5, 1.0)),\n",
    "    transforms.ColorJitter(brightness=0.5, contrast=0.5, saturation=0.5, hue=0.3),\n",
    "    transforms.RandomGrayscale(p=0.3),\n",
    "    transforms.GaussianBlur(kernel_size=(5, 9), sigma=(0.1, 5)),\n",
    "    transforms.ToTensor(),\n",
    "])\n",
    "\n",
    "# 디렉터리 경로\n",
    "cat_dir = '../data/cifar10_images/cat'\n",
    "dog_dir = '../data/cifar10_images/dog'\n",
    "\n",
    "# Custom Dataset 인스턴스 생성\n",
    "dataset = CustomDataset(dir_paths=[cat_dir, dog_dir], transform=transform)\n",
    "\n",
    "# 데이터셋을 학습용, 검증용, 테스트용으로 분리\n",
    "train_size = int(0.7 * len(dataset))\n",
    "valid_size = int(0.15 * len(dataset))\n",
    "test_size = len(dataset) - train_size - valid_size\n",
    "train_dataset, valid_dataset, test_dataset = torch.utils.data.random_split(dataset, [train_size, valid_size, test_size])\n",
    "\n",
    "# DataLoader 인스턴스 생성\n",
    "batch_size = 16\n",
    "train_loader = DataLoader(train_dataset, batch_size=batch_size, shuffle=True)\n",
    "valid_loader = DataLoader(valid_dataset, batch_size=batch_size, shuffle=False)\n",
    "test_loader = DataLoader(test_dataset, batch_size=batch_size, shuffle=False)\n",
    "\n",
    "# 데이터 확인\n",
    "for images, labels in train_loader:\n",
    "    print(f\"학습 배치 이미지 크기: {images.size()}\")\n",
    "    print(f\"학습 배치 레이블 크기: {labels.size()}\")\n",
    "    break\n",
    "\n",
    "for images, labels in valid_loader:\n",
    "    print(f\"검증 배치 이미지 크기: {images.size()}\")\n",
    "    print(f\"검증 배치 레이블 크기: {labels.size()}\")\n",
    "    break\n",
    "\n",
    "for images, labels in test_loader:\n",
    "    print(f\"테스트 배치 이미지 크기: {images.size()}\")\n",
    "    print(f\"테스트 배치 레이블 크기: {labels.size()}\")\n",
    "    break"
   ]
  },
  {
   "cell_type": "markdown",
   "metadata": {},
   "source": [
    "# HyperParameter"
   ]
  },
  {
   "cell_type": "code",
   "execution_count": 4,
   "metadata": {},
   "outputs": [],
   "source": [
    "# 하이퍼파라미터 설정\n",
    "input_size = 32 * 32 * 3  # 이미지 크기 (32x32) x 3 채널\n",
    "hidden_size = 128\n",
    "learning_rate = 0.001\n",
    "num_epochs = 100\n",
    "weight_decay = 1e-4  # L2 정규화 하이퍼파라미터\n",
    "early_stopping_patience = 5\n",
    "early_stopping_counter = 0"
   ]
  },
  {
   "cell_type": "markdown",
   "metadata": {},
   "source": [
    "# Weight Initalize"
   ]
  },
  {
   "cell_type": "code",
   "execution_count": 5,
   "metadata": {},
   "outputs": [],
   "source": [
    "import torch.nn as nn\n",
    "\n",
    "# 가중치 초기화\n",
    "def weights_init(m):\n",
    "    if isinstance(m, nn.Linear):\n",
    "        nn.init.kaiming_normal_(m.weight)\n",
    "        if m.bias is not None:\n",
    "            nn.init.zeros_(m.bias)"
   ]
  },
  {
   "cell_type": "markdown",
   "metadata": {},
   "source": [
    "# Model"
   ]
  },
  {
   "cell_type": "code",
   "execution_count": 6,
   "metadata": {},
   "outputs": [],
   "source": [
    "class SimpleNN(nn.Module):\n",
    "    def __init__(self, input_size, hidden_size):\n",
    "        super(SimpleNN, self).__init__()\n",
    "        self.fc1 = nn.Linear(input_size, hidden_size)\n",
    "        self.dropout = nn.Dropout(p=0.5)\n",
    "        self.fc2 = nn.Linear(hidden_size, 1)\n",
    "        self.relu = nn.ReLU()\n",
    "        self.sigmoid = nn.Sigmoid()\n",
    "        self.apply(weights_init)\n",
    "\n",
    "    def forward(self, x):\n",
    "        x = self.fc1(x)\n",
    "        x = self.relu(x)\n",
    "        x = self.dropout(x)\n",
    "        x = self.fc2(x)\n",
    "        x = self.sigmoid(x)\n",
    "        return x\n",
    "\n",
    "model = SimpleNN(input_size=input_size, hidden_size=hidden_size)"
   ]
  },
  {
   "cell_type": "code",
   "execution_count": 7,
   "metadata": {},
   "outputs": [
    {
     "name": "stdout",
     "output_type": "stream",
     "text": [
      "fc1.weight: 393216 parameters\n",
      "fc1.bias: 128 parameters\n",
      "fc2.weight: 128 parameters\n",
      "fc2.bias: 1 parameters\n",
      "Total parameters: 393473\n"
     ]
    }
   ],
   "source": [
    "def count_parameters(model):\n",
    "    \"\"\"\n",
    "    모델의 파라미터 수를 계산하는 함수\n",
    "    \"\"\"\n",
    "    total_params = sum(p.numel() for p in model.parameters())\n",
    "    return total_params\n",
    "\n",
    "def print_model_parameters(model):\n",
    "    \"\"\"\n",
    "    모델의 각 레이어와 그 파라미터 수를 출력하는 함수\n",
    "    \"\"\"\n",
    "    for name, param in model.named_parameters():\n",
    "        print(f\"{name}: {param.numel()} parameters\")\n",
    "    print(f\"Total parameters: {count_parameters(model)}\")\n",
    "\n",
    "# 모델의 파라미터 수 출력\n",
    "print_model_parameters(model)"
   ]
  },
  {
   "cell_type": "markdown",
   "metadata": {},
   "source": [
    "# Loss"
   ]
  },
  {
   "cell_type": "markdown",
   "metadata": {},
   "source": [
    "$\n",
    "\\begin{align}\n",
    "-\\frac{1}{N}\\sum_{i=1}^N[y_ilog(p_i)+(1-y_i)log(1-p_i)]\n",
    "\\end{align}\n",
    "$"
   ]
  },
  {
   "cell_type": "markdown",
   "metadata": {},
   "source": [
    "1. 선형 모델의 출력: [0.5, -1.2, 0.8]\n",
    "2. Sigmoid의 출력: [0.62245933, 0.23147522, 0.68997448]\n",
    "3. 실제 레이블: [1, 0, 1]"
   ]
  },
  {
   "cell_type": "code",
   "execution_count": 8,
   "metadata": {},
   "outputs": [],
   "source": [
    "# 이진 크로스 엔트로피 손실 함수\n",
    "# 모델의 예측 확률과 실제 레이블 간의 차이를 측정하여, 예측이 정확할수록 손실을 줄이는 방향으로 모델을 학습시킵니다.\n",
    "criterion = nn.BCELoss()  # Binary Cross Entropy Loss"
   ]
  },
  {
   "cell_type": "markdown",
   "metadata": {},
   "source": [
    "# Optimizer"
   ]
  },
  {
   "cell_type": "code",
   "execution_count": 9,
   "metadata": {},
   "outputs": [],
   "source": [
    "import torch.optim as optim\n",
    "\n",
    "# Adam 옵티마이저 사용, L2 정규화 포함\n",
    "optimizer = optim.Adam(model.parameters(), lr=learning_rate, weight_decay=weight_decay)"
   ]
  },
  {
   "cell_type": "markdown",
   "metadata": {},
   "source": [
    "# Train"
   ]
  },
  {
   "cell_type": "code",
   "execution_count": 10,
   "metadata": {},
   "outputs": [
    {
     "name": "stdout",
     "output_type": "stream",
     "text": [
      "Epoch 1/100, Loss: 0.6935\n",
      "Epoch 1/100, Validation Loss: 0.6930\n",
      "Epoch 2/100, Loss: 0.6940\n",
      "Epoch 2/100, Validation Loss: 0.6932\n",
      "Epoch 3/100, Loss: 0.6922\n",
      "Epoch 3/100, Validation Loss: 0.6928\n",
      "Epoch 4/100, Loss: 0.6926\n",
      "Epoch 4/100, Validation Loss: 0.6928\n",
      "Epoch 5/100, Loss: 0.6934\n",
      "Epoch 5/100, Validation Loss: 0.6928\n",
      "Epoch 6/100, Loss: 0.6927\n",
      "Epoch 6/100, Validation Loss: 0.6928\n",
      "Epoch 7/100, Loss: 0.6926\n",
      "Epoch 7/100, Validation Loss: 0.6928\n",
      "Epoch 8/100, Loss: 0.6921\n",
      "Epoch 8/100, Validation Loss: 0.6929\n",
      "Epoch 9/100, Loss: 0.6918\n",
      "Epoch 9/100, Validation Loss: 0.6928\n",
      "Epoch 10/100, Loss: 0.6929\n",
      "Epoch 10/100, Validation Loss: 0.6928\n",
      "Epoch 11/100, Loss: 0.6926\n",
      "Epoch 11/100, Validation Loss: 0.6926\n",
      "Epoch 12/100, Loss: 0.6923\n",
      "Epoch 12/100, Validation Loss: 0.6926\n",
      "Epoch 13/100, Loss: 0.6924\n",
      "Epoch 13/100, Validation Loss: 0.6926\n",
      "Epoch 14/100, Loss: 0.6922\n",
      "Epoch 14/100, Validation Loss: 0.6925\n",
      "Epoch 15/100, Loss: 0.6919\n",
      "Epoch 15/100, Validation Loss: 0.6924\n",
      "Epoch 16/100, Loss: 0.6930\n",
      "Epoch 16/100, Validation Loss: 0.6925\n",
      "Epoch 17/100, Loss: 0.6925\n",
      "Epoch 17/100, Validation Loss: 0.6924\n",
      "Epoch 18/100, Loss: 0.6914\n",
      "Epoch 18/100, Validation Loss: 0.6925\n",
      "Epoch 19/100, Loss: 0.6916\n",
      "Epoch 19/100, Validation Loss: 0.6924\n",
      "Epoch 20/100, Loss: 0.6919\n",
      "Epoch 20/100, Validation Loss: 0.6923\n",
      "Epoch 21/100, Loss: 0.6909\n",
      "Epoch 21/100, Validation Loss: 0.6923\n",
      "Epoch 22/100, Loss: 0.6917\n",
      "Epoch 22/100, Validation Loss: 0.6922\n",
      "Epoch 23/100, Loss: 0.6917\n",
      "Epoch 23/100, Validation Loss: 0.6924\n",
      "Epoch 24/100, Loss: 0.6907\n",
      "Epoch 24/100, Validation Loss: 0.6923\n",
      "Epoch 25/100, Loss: 0.6895\n",
      "Epoch 25/100, Validation Loss: 0.6922\n",
      "Epoch 26/100, Loss: 0.6919\n",
      "Epoch 26/100, Validation Loss: 0.6921\n",
      "Epoch 27/100, Loss: 0.6892\n",
      "Epoch 27/100, Validation Loss: 0.6921\n",
      "Epoch 28/100, Loss: 0.6893\n",
      "Epoch 28/100, Validation Loss: 0.6921\n",
      "Epoch 29/100, Loss: 0.6933\n",
      "Epoch 29/100, Validation Loss: 0.6922\n",
      "Epoch 30/100, Loss: 0.6922\n",
      "Epoch 30/100, Validation Loss: 0.6920\n",
      "Epoch 31/100, Loss: 0.6928\n",
      "Epoch 31/100, Validation Loss: 0.6922\n",
      "Epoch 32/100, Loss: 0.6911\n",
      "Epoch 32/100, Validation Loss: 0.6919\n",
      "Epoch 33/100, Loss: 0.6904\n",
      "Epoch 33/100, Validation Loss: 0.6921\n",
      "Epoch 34/100, Loss: 0.6921\n",
      "Epoch 34/100, Validation Loss: 0.6920\n",
      "Epoch 35/100, Loss: 0.6898\n",
      "Epoch 35/100, Validation Loss: 0.6919\n",
      "Epoch 36/100, Loss: 0.6909\n",
      "Epoch 36/100, Validation Loss: 0.6919\n",
      "Epoch 37/100, Loss: 0.6911\n",
      "Epoch 37/100, Validation Loss: 0.6920\n",
      "Epoch 38/100, Loss: 0.6921\n",
      "Epoch 38/100, Validation Loss: 0.6919\n",
      "Epoch 39/100, Loss: 0.6887\n",
      "Epoch 39/100, Validation Loss: 0.6919\n",
      "Epoch 40/100, Loss: 0.6901\n",
      "Epoch 40/100, Validation Loss: 0.6917\n",
      "Epoch 41/100, Loss: 0.6910\n",
      "Epoch 41/100, Validation Loss: 0.6919\n",
      "Epoch 42/100, Loss: 0.6902\n",
      "Epoch 42/100, Validation Loss: 0.6918\n",
      "Epoch 43/100, Loss: 0.6909\n",
      "Epoch 43/100, Validation Loss: 0.6918\n",
      "Epoch 44/100, Loss: 0.6890\n",
      "Epoch 44/100, Validation Loss: 0.6919\n",
      "Epoch 45/100, Loss: 0.6917\n",
      "Epoch 45/100, Validation Loss: 0.6918\n",
      "Early stopping\n"
     ]
    },
    {
     "data": {
      "image/png": "[encoded data removed]",
      "text/plain": [
       "<Figure size 1000x500 with 1 Axes>"
      ]
     },
     "metadata": {},
     "output_type": "display_data"
    }
   ],
   "source": [
    "import matplotlib.pyplot as plt\n",
    "import torch\n",
    "\n",
    "# 조기 종료 설정\n",
    "best_val_loss = float('inf')\n",
    "\n",
    "# 학습 및 검증 손실을 저장할 리스트 초기화\n",
    "train_losses = []\n",
    "valid_losses = []\n",
    "\n",
    "# 학습 루프 시작\n",
    "for epoch in range(num_epochs):\n",
    "    model.train()\n",
    "    running_loss = 0.0\n",
    "\n",
    "    for images, labels in train_loader:\n",
    "        images = images.view(images.size(0), -1)\n",
    "        labels = labels.float().view(-1, 1)\n",
    "\n",
    "        outputs = model(images)\n",
    "        loss = criterion(outputs, labels)\n",
    "\n",
    "        optimizer.zero_grad()\n",
    "        loss.backward()\n",
    "        optimizer.step()\n",
    "\n",
    "        running_loss += loss.item() * images.size(0)\n",
    "\n",
    "    epoch_loss = running_loss / len(train_loader.dataset)\n",
    "    train_losses.append(epoch_loss)\n",
    "    \n",
    "    print(f'Epoch {epoch + 1}/{num_epochs}, Loss: {epoch_loss:.4f}')\n",
    "\n",
    "    model.eval()\n",
    "    val_running_loss = 0.0\n",
    "\n",
    "    with torch.no_grad():\n",
    "        for images, labels in valid_loader:\n",
    "            images = images.view(images.size(0), -1)\n",
    "            labels = labels.float().view(-1, 1)\n",
    "            outputs = model(images)\n",
    "            loss = criterion(outputs, labels)\n",
    "            val_running_loss += loss.item() * images.size(0)\n",
    "\n",
    "    val_epoch_loss = val_running_loss / len(valid_loader.dataset)\n",
    "    valid_losses.append(val_epoch_loss)\n",
    "    print(f'Epoch {epoch + 1}/{num_epochs}, Validation Loss: {val_epoch_loss:.4f}')\n",
    "\n",
    "    if val_epoch_loss < best_val_loss:\n",
    "        best_val_loss = val_epoch_loss\n",
    "        early_stopping_counter = 0\n",
    "        torch.save(model.state_dict(), 'best_model.pth')\n",
    "    else:\n",
    "        early_stopping_counter += 1\n",
    "\n",
    "    if early_stopping_counter >= early_stopping_patience:\n",
    "        print(\"Early stopping\")\n",
    "        break\n",
    "\n",
    "# 학습 및 검증 손실 시각화\n",
    "epochs_range = range(1, len(train_losses) + 1)  # 실제 기록된 손실의 길이에 맞게 조정\n",
    "\n",
    "plt.figure(figsize=(10, 5))\n",
    "plt.plot(epochs_range, train_losses, label='Train Loss')\n",
    "plt.plot(epochs_range, valid_losses, label='Validation Loss')\n",
    "plt.xlabel('Epochs')\n",
    "plt.ylabel('Loss')\n",
    "plt.title('Training and Validation Loss')\n",
    "plt.legend()\n",
    "plt.show()\n"
   ]
  },
  {
   "cell_type": "markdown",
   "metadata": {},
   "source": [
    "# Predict"
   ]
  },
  {
   "cell_type": "code",
   "execution_count": 11,
   "metadata": {},
   "outputs": [
    {
     "name": "stdout",
     "output_type": "stream",
     "text": [
      "Test Set Accuracy: 50.00%\n"
     ]
    }
   ],
   "source": [
    "# 모델을 평가 모드로 설정\n",
    "model.eval()\n",
    "correct = 0\n",
    "total = 0\n",
    "\n",
    "# 평가 중 기울기 계산을 비활성화 (메모리 절약 및 연산 속도 향상)\n",
    "with torch.no_grad():\n",
    "    # 테스트 데이터 로더를 통해 배치 단위로 테스트 데이터를 순회\n",
    "    for images, labels in test_loader:\n",
    "        # 이미지를 (32x32x3) 크기에서 (3072,)로 변형\n",
    "        images = images.view(images.size(0), -1)\n",
    "\n",
    "        # 레이블을 float형으로 변환하고 (batch_size,) 모양을 (batch_size, 1)로 변형\n",
    "        labels = labels.float().view(-1, 1)\n",
    "\n",
    "        # 모델에 이미지를 통과시켜 예측값을 얻음\n",
    "        outputs = model(images)\n",
    " \n",
    "        # 예측 확률이 0.5보다 크면 1(positive class)로, 그렇지 않으면 0으로 변환\n",
    "        predicted = (outputs > 0.5).float()\n",
    "\n",
    "        # 총 샘플 수를 업데이트\n",
    "        total += labels.size(0)\n",
    "        # 맞춘 샘플의 수를 업데이트\n",
    "        correct += (predicted == labels).sum().item()\n",
    "\n",
    "# 정확도 계산\n",
    "accuracy = correct / total\n",
    "# 정확도를 백분율로 출력\n",
    "print(f\"Test Set Accuracy: {accuracy * 100:.2f}%\")"
   ]
  },
  {
   "cell_type": "code",
   "execution_count": null,
   "metadata": {},
   "outputs": [],
   "source": []
  }
 ],
 "metadata": {
  "kernelspec": {
   "display_name": "Python 3",
   "language": "python",
   "name": "python3"
  },
  "language_info": {
   "codemirror_mode": {
    "name": "ipython",
    "version": 3
   },
   "file_extension": ".py",
   "mimetype": "text/x-python",
   "name": "python",
   "nbconvert_exporter": "python",
   "pygments_lexer": "ipython3",
   "version": "3.10.12"
  }
 },
 "nbformat": 4,
 "nbformat_minor": 2
}
