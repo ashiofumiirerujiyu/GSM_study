{
 "cells": [
  {
   "cell_type": "markdown",
   "metadata": {},
   "source": [
    "# 데이터"
   ]
  },
  {
   "cell_type": "markdown",
   "metadata": {},
   "source": [
    "### 데이터 불러오기"
   ]
  },
  {
   "cell_type": "code",
   "execution_count": 1,
   "metadata": {},
   "outputs": [],
   "source": [
    "import os\n",
    "import numpy as np\n",
    "from PIL import Image\n",
    "from sklearn.model_selection import train_test_split\n",
    "\n",
    "\n",
    "# 이미지 파일 불러오기\n",
    "def load_images_from_folder(folder):\n",
    "    images = []\n",
    "    labels = []\n",
    "    label = folder.split('/')[-1]\n",
    "    for filename in os.listdir(folder):\n",
    "        img_path = os.path.join(folder, filename)\n",
    "        img = Image.open(img_path).convert('RGB')\n",
    "        img = img.resize((32, 32))\n",
    "        img = np.array(img)\n",
    "        images.append(img)\n",
    "        labels.append(label)\n",
    "\n",
    "    return images, labels\n",
    "\n",
    "# 이미지 데이터셋 로드\n",
    "cat_images, cat_labels = load_images_from_folder('./data/cats')\n",
    "dog_images, dog_labels = load_images_from_folder('./data/dogs')"
   ]
  },
  {
   "cell_type": "code",
   "execution_count": 2,
   "metadata": {},
   "outputs": [
    {
     "name": "stdout",
     "output_type": "stream",
     "text": [
      "고양이 데이터 갯수: 10\n",
      "강아지 데이터 갯수: 10\n"
     ]
    }
   ],
   "source": [
    "print(f\"고양이 데이터 갯수: {len(cat_labels)}\")\n",
    "print(f\"강아지 데이터 갯수: {len(dog_labels)}\")"
   ]
  },
  {
   "cell_type": "markdown",
   "metadata": {},
   "source": [
    "### 데이터 시각화"
   ]
  },
  {
   "cell_type": "code",
   "execution_count": 3,
   "metadata": {},
   "outputs": [
    {
     "data": {
      "image/png": "[encoded data removed]",
      "text/plain": [
       "<Figure size 640x480 with 1 Axes>"
      ]
     },
     "metadata": {},
     "output_type": "display_data"
    },
    {
     "data": {
      "image/png": "[encoded data removed]",
      "text/plain": [
       "<Figure size 640x480 with 1 Axes>"
      ]
     },
     "metadata": {},
     "output_type": "display_data"
    }
   ],
   "source": [
    "import matplotlib.pyplot as plt\n",
    "\n",
    "\n",
    "# 한 장씩 시각화\n",
    "def visualize_image(image, title):\n",
    "    plt.imshow(image)\n",
    "    plt.title(title)\n",
    "    plt.axis('off')\n",
    "    plt.show()\n",
    "\n",
    "# 고양이 이미지 한 장 시각화\n",
    "visualize_image(cat_images[0], 'Cat')\n",
    "\n",
    "# 강아지 이미지 한 장 시각화\n",
    "visualize_image(dog_images[0], 'Dog')"
   ]
  },
  {
   "cell_type": "markdown",
   "metadata": {},
   "source": [
    "### 레이블 벡터화"
   ]
  },
  {
   "cell_type": "code",
   "execution_count": 4,
   "metadata": {},
   "outputs": [],
   "source": [
    "# 데이터와 레이블 병합\n",
    "images = np.array(cat_images + dog_images)\n",
    "labels = np.array(cat_labels + dog_labels)\n",
    "\n",
    "# 레이블을 숫자로 변환\n",
    "label_to_index = {'cats': 0, 'dogs': 1}\n",
    "indexed_labels = np.array([label_to_index[label] for label in labels])\n",
    "\n",
    "# 데이터셋 분할\n",
    "X_train, X_test, y_train, y_test = train_test_split(images, indexed_labels, test_size=0.2, random_state=42)\n"
   ]
  },
  {
   "cell_type": "markdown",
   "metadata": {},
   "source": [
    "### PyTorch Custom 데이터 세트"
   ]
  },
  {
   "cell_type": "code",
   "execution_count": 5,
   "metadata": {},
   "outputs": [],
   "source": [
    "import torch\n",
    "from torch.utils.data import Dataset, DataLoader\n",
    "\n",
    "# Custom Dataset 정의\n",
    "class ImageDataset(Dataset):\n",
    "    def __init__(self, images, labels):\n",
    "        \"\"\"\n",
    "        이미지와 레이블을 받아 데이터셋 객체를 초기화합니다.\n",
    "\n",
    "        Args:\n",
    "            images (numpy.ndarray): 이미지 데이터 배열 (예: shape가 (N, 32, 32, 3)인 배열).\n",
    "            labels (numpy.ndarray): 각 이미지에 대한 레이블 배열 (예: shape가 (N,)인 배열).\n",
    "        \"\"\"\n",
    "        self.images = images  # 이미지 데이터 배열을 저장\n",
    "        self.labels = labels  # 레이블 배열을 저장\n",
    "\n",
    "    def __len__(self):\n",
    "        \"\"\"\n",
    "        데이터셋의 총 샘플 수를 반환합니다.\n",
    "\n",
    "        Returns:\n",
    "            int: 데이터셋의 샘플 수.\n",
    "        \"\"\"\n",
    "        return len(self.labels)  # 레이블 배열의 길이를 반환\n",
    "\n",
    "    def __getitem__(self, idx):\n",
    "        \"\"\"\n",
    "        주어진 인덱스에 해당하는 샘플을 반환합니다.\n",
    "\n",
    "        Args:\n",
    "            idx (int): 샘플의 인덱스.\n",
    "\n",
    "        Returns:\n",
    "            tuple: (이미지, 레이블)로 구성된 튜플.\n",
    "        \"\"\"\n",
    "        image = self.images[idx]  # 주어진 인덱스에 해당하는 이미지 가져오기\n",
    "        label = self.labels[idx]  # 주어진 인덱스에 해당하는 레이블 가져오기\n",
    "        \n",
    "        # 이미지를 torch 텐서로 변환하고, float32 타입으로 캐스팅한 후, 차원 순서를 (채널, 높이, 너비)로 변경\n",
    "        image = torch.tensor(image, dtype=torch.float32).permute(2, 0, 1) / 255.0\n",
    "        \n",
    "        # 레이블을 torch 텐서로 변환하고, float32 타입으로 캐스팅\n",
    "        # CrossEntropyLoss는 float형 레이블을 기대함\n",
    "        label = torch.tensor(label, dtype=torch.float32)  \n",
    "        \n",
    "        return image, label  # 변환된 이미지와 레이블을 반환"
   ]
  },
  {
   "cell_type": "code",
   "execution_count": 6,
   "metadata": {},
   "outputs": [],
   "source": [
    "# 데이터 로더 생성\n",
    "train_dataset = ImageDataset(X_train, y_train)\n",
    "test_dataset = ImageDataset(X_test, y_test)\n",
    "\n",
    "train_loader = DataLoader(train_dataset, batch_size=4, shuffle=True)\n",
    "test_loader = DataLoader(test_dataset, batch_size=1, shuffle=False)"
   ]
  },
  {
   "cell_type": "markdown",
   "metadata": {},
   "source": [
    "# Model"
   ]
  },
  {
   "cell_type": "code",
   "execution_count": 7,
   "metadata": {},
   "outputs": [],
   "source": [
    "import torch.nn as nn\n",
    "\n",
    "# 모델 정의\n",
    "class SimpleFC(nn.Module):\n",
    "    def __init__(self):\n",
    "        \"\"\"\n",
    "        SimpleFC 클래스의 초기화 메서드입니다.\n",
    "        세 개의 선형 (fully connected) 레이어를 정의합니다.\n",
    "        \"\"\"\n",
    "        super(SimpleFC, self).__init__()\n",
    "        # 첫 번째 선형 레이어: 입력 노드 수는 32 * 32 * 3 (32x32 크기의 RGB 이미지), 출력 노드 수는 128\n",
    "        self.fc1 = nn.Linear(32 * 32 * 3, 128)\n",
    "        # 두 번째 선형 레이어: 입력 노드 수는 128, 출력 노드 수는 64\n",
    "        self.fc2 = nn.Linear(128, 64)\n",
    "        # 세 번째 선형 레이어: 입력 노드 수는 64, 출력 노드 수는 1 (이진 분류를 위한 로짓 출력)\n",
    "        self.fc3 = nn.Linear(64, 1)\n",
    "    \n",
    "    def forward(self, x):\n",
    "        \"\"\"\n",
    "        순전파 (forward pass) 메서드입니다.\n",
    "        입력 x를 모델을 통해 순차적으로 통과시킵니다.\n",
    "        \n",
    "        Args:\n",
    "            x (torch.Tensor): 입력 텐서, shape (batch_size, 3, 32, 32)\n",
    "            \n",
    "        Returns:\n",
    "            torch.Tensor: 최종 출력 텐서, shape (batch_size, 1)\n",
    "        \"\"\"\n",
    "        # 입력 x의 크기를 (batch_size, 3, 32, 32)에서 (batch_size, 32 * 32 * 3)로 변경\n",
    "        x = x.view(x.size(0), -1)\n",
    "        # 첫 번째 레이어를 통과한 후 ReLU 활성화 함수 적용\n",
    "        x = torch.relu(self.fc1(x))\n",
    "        # 두 번째 레이어를 통과한 후 ReLU 활성화 함수 적용\n",
    "        x = torch.relu(self.fc2(x))\n",
    "        # 세 번째 레이어를 통과한 후 최종 출력\n",
    "        x = self.fc3(x)\n",
    "        x = torch.sigmoid(x)\n",
    "        \n",
    "        return x\n",
    "\n",
    "# SimpleFC 클래스의 인스턴스를 생성하여 모델을 초기화\n",
    "model = SimpleFC()"
   ]
  },
  {
   "cell_type": "markdown",
   "metadata": {},
   "source": [
    "# Optimization"
   ]
  },
  {
   "cell_type": "code",
   "execution_count": 8,
   "metadata": {},
   "outputs": [],
   "source": [
    "import torch.optim as optim\n",
    "\n",
    "# 옵티마이저 정의\n",
    "# 모델의 매개변수 (parameters)를 전달하고, 학습률 (learning rate)을 0.001로 설정\n",
    "optimizer = optim.SGD(model.parameters(), lr=0.001)"
   ]
  },
  {
   "cell_type": "markdown",
   "metadata": {},
   "source": [
    "# Loss"
   ]
  },
  {
   "cell_type": "code",
   "execution_count": 9,
   "metadata": {},
   "outputs": [],
   "source": [
    "# 손실 함수 정의\n",
    "# CrossEntropyLoss는 클래스 레이블을 정수로 받고, 모델의 출력은 클래스에 대한 raw 점수 (logits)여야 합니다.\n",
    "# 이 손실 함수는 내부적으로 Softmax를 적용하여 클래스 확률을 계산하고, 실제 레이블과의 차이를 측정합니다.\n",
    "criterion = nn.BCELoss()"
   ]
  },
  {
   "cell_type": "markdown",
   "metadata": {},
   "source": [
    "# Train"
   ]
  },
  {
   "cell_type": "code",
   "execution_count": 10,
   "metadata": {},
   "outputs": [
    {
     "name": "stdout",
     "output_type": "stream",
     "text": [
      "Epoch [1/10], Loss: 0.6934572160243988\n",
      "Epoch [2/10], Loss: 0.6926301270723343\n",
      "Epoch [3/10], Loss: 0.6924353241920471\n",
      "Epoch [4/10], Loss: 0.6916584074497223\n",
      "Epoch [5/10], Loss: 0.6911292225122452\n",
      "Epoch [6/10], Loss: 0.6907039433717728\n",
      "Epoch [7/10], Loss: 0.6901939809322357\n",
      "Epoch [8/10], Loss: 0.6900702863931656\n",
      "Epoch [9/10], Loss: 0.6894718557596207\n",
      "Epoch [10/10], Loss: 0.6890570819377899\n"
     ]
    }
   ],
   "source": [
    "# 학습 루프\n",
    "num_epochs = 10  # 총 학습 에폭 수를 10으로 설정\n",
    "\n",
    "# 각 에폭(epoch)마다 반복\n",
    "for epoch in range(num_epochs):\n",
    "    model.train()  # 모델을 학습 모드로 설정\n",
    "    running_loss = 0.0  # 에폭 동안의 손실을 누적하기 위한 변수 초기화\n",
    "    \n",
    "    # 학습 데이터 로더에서 배치(batch) 단위로 데이터를 가져옴\n",
    "    for images, labels in train_loader:\n",
    "        optimizer.zero_grad()  # 옵티마이저의 변화도(gradients)를 초기화\n",
    "        outputs = model(images).squeeze()  # 모델에 이미지를 입력하여 예측값 출력, 출력의 차원 축소\n",
    "        loss = criterion(outputs, labels)  # 예측값과 실제 레이블을 사용하여 손실 계산\n",
    "        loss.backward()  # 손실에 대한 변화도(gradients) 계산\n",
    "        optimizer.step()  # 옵티마이저가 모델의 매개변수를 업데이트\n",
    "        \n",
    "        running_loss += loss.item()  # 배치의 손실을 누적\n",
    "    \n",
    "    # 에폭이 끝날 때마다 평균 손실 출력\n",
    "    print(f'Epoch [{epoch+1}/{num_epochs}], Loss: {running_loss/len(train_loader)}')"
   ]
  },
  {
   "cell_type": "markdown",
   "metadata": {},
   "source": [
    "# Test"
   ]
  },
  {
   "cell_type": "code",
   "execution_count": 11,
   "metadata": {},
   "outputs": [
    {
     "name": "stdout",
     "output_type": "stream",
     "text": [
      "Accuracy of the model on the test images: 50.0%\n"
     ]
    }
   ],
   "source": [
    "# 모델 평가\n",
    "model.eval()\n",
    "correct = 0\n",
    "total = 0\n",
    "with torch.no_grad():\n",
    "    for images, labels in test_loader:\n",
    "        outputs = model(images).squeeze()\n",
    "        predicted = (torch.sigmoid(outputs) > 0.5).float()\n",
    "        total += labels.size(0)\n",
    "        correct += (predicted == labels).sum().item()\n",
    "\n",
    "print(f'Accuracy of the model on the test images: {100 * correct / total}%')"
   ]
  },
  {
   "cell_type": "code",
   "execution_count": null,
   "metadata": {},
   "outputs": [],
   "source": []
  }
 ],
 "metadata": {
  "kernelspec": {
   "display_name": "Python 3",
   "language": "python",
   "name": "python3"
  },
  "language_info": {
   "codemirror_mode": {
    "name": "ipython",
    "version": 3
   },
   "file_extension": ".py",
   "mimetype": "text/x-python",
   "name": "python",
   "nbconvert_exporter": "python",
   "pygments_lexer": "ipython3",
   "version": "3.10.12"
  }
 },
 "nbformat": 4,
 "nbformat_minor": 2
}
