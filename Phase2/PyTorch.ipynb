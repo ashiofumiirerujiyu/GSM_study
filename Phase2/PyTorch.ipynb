{
 "cells": [
  {
   "cell_type": "markdown",
   "metadata": {},
   "source": [
    "# Dataset"
   ]
  },
  {
   "cell_type": "code",
   "execution_count": 1,
   "metadata": {},
   "outputs": [],
   "source": [
    "import os\n",
    "import torch\n",
    "from PIL import Image\n",
    "from torch.utils.data import Dataset, DataLoader\n",
    "\n",
    "\n",
    "class CustomDataset(Dataset):\n",
    "    def __init__(self, dir_paths, transform=None):\n",
    "        self.images = []\n",
    "        self.labels = []\n",
    "        self.transform = transform\n",
    "\n",
    "        for dir_path in dir_paths:\n",
    "            label = os.path.basename(dir_path) # 'cat' 또는 'dog'\n",
    "            for file_name in os.listdir(dir_path):\n",
    "                image_path = os.path.join(dir_path, file_name)\n",
    "                image = Image.open(image_path).convert('RGB')\n",
    "                if self.transform:\n",
    "                    image = self.transform(image)\n",
    "                self.images.append(image)\n",
    "                self.labels.append(label)\n",
    "                \n",
    "        # 레이블 인코딩\n",
    "        self.label_to_index = {'cat': 0, 'dog': 1}\n",
    "        self.labels = [self.label_to_index[label] for label in self.labels]\n",
    "\n",
    "    def __len__(self):\n",
    "        return len(self.images)\n",
    "\n",
    "    def __getitem__(self, idx):\n",
    "        image = self.images[idx]\n",
    "        label = self.labels[idx]\n",
    "        return image, label\n"
   ]
  },
  {
   "cell_type": "code",
   "execution_count": 2,
   "metadata": {},
   "outputs": [
    {
     "name": "stdout",
     "output_type": "stream",
     "text": [
      "학습 배치 이미지 크기: torch.Size([16, 3, 32, 32])\n",
      "학습 배치 레이블 크기: torch.Size([16])\n",
      "테스트 배치 이미지 크기: torch.Size([16, 3, 32, 32])\n",
      "테스트 배치 레이블 크기: torch.Size([16])\n"
     ]
    }
   ],
   "source": [
    "from torchvision import transforms\n",
    "\n",
    "# 데이터 전처리 정의\n",
    "transform = transforms.Compose([\n",
    "    transforms.Resize((32, 32)),\n",
    "    transforms.ToTensor(),  # 이미지를 [0, 1] 범위로 정규화\n",
    "])\n",
    "\n",
    "# 디렉터리 경로\n",
    "cat_dir = '../data/cifar10_images/cat'\n",
    "dog_dir = '../data/cifar10_images/dog'\n",
    "\n",
    "# Custom Dataset 인스턴스 생성\n",
    "dataset = CustomDataset(dir_paths=[cat_dir, dog_dir], transform=transform)\n",
    "\n",
    "# 데이터셋을 학습용과 테스트용으로 분리\n",
    "train_size = int(0.8 * len(dataset))\n",
    "test_size = len(dataset) - train_size\n",
    "train_dataset, test_dataset = torch.utils.data.random_split(dataset, [train_size, test_size])\n",
    "\n",
    "# DataLoader 인스턴스 생성\n",
    "batch_size = 16\n",
    "train_loader = DataLoader(train_dataset, batch_size=batch_size, shuffle=True)\n",
    "test_loader = DataLoader(test_dataset, batch_size=batch_size, shuffle=False)\n",
    "\n",
    "# 데이터 확인\n",
    "for images, labels in train_loader:\n",
    "    print(f\"학습 배치 이미지 크기: {images.size()}\")\n",
    "    print(f\"학습 배치 레이블 크기: {labels.size()}\")\n",
    "    break\n",
    "\n",
    "for images, labels in test_loader:\n",
    "    print(f\"테스트 배치 이미지 크기: {images.size()}\")\n",
    "    print(f\"테스트 배치 레이블 크기: {labels.size()}\")\n",
    "    break\n"
   ]
  },
  {
   "cell_type": "markdown",
   "metadata": {},
   "source": [
    "# HyperParameter"
   ]
  },
  {
   "cell_type": "code",
   "execution_count": 3,
   "metadata": {},
   "outputs": [],
   "source": [
    "# 하이퍼파라미터 설정\n",
    "input_size = 32 * 32 * 3  # 이미지 크기 (32x32) x 3 채널\n",
    "hidden_size = 128\n",
    "learning_rate = 0.0001\n",
    "num_epochs = 10"
   ]
  },
  {
   "cell_type": "markdown",
   "metadata": {},
   "source": [
    "# Model"
   ]
  },
  {
   "cell_type": "code",
   "execution_count": 4,
   "metadata": {},
   "outputs": [],
   "source": [
    "import torch.nn as nn\n",
    "\n",
    "\n",
    "class SimpleNN(nn.Module):\n",
    "    def __init__(self, input_size, hidden_size):\n",
    "        super(SimpleNN, self).__init__()\n",
    "        self.fc1 = nn.Linear(input_size, hidden_size)\n",
    "        self.fc2 = nn.Linear(hidden_size, 1)\n",
    "        self.relu = nn.ReLU()\n",
    "        self.sigmoid = nn.Sigmoid()\n",
    "\n",
    "    def forward(self, x):\n",
    "        x = self.fc1(x)\n",
    "        x = self.relu(x)\n",
    "        x = self.fc2(x)\n",
    "        x = self.sigmoid(x)\n",
    "\n",
    "        return x\n",
    "\n",
    "model = SimpleNN(input_size=input_size, hidden_size=hidden_size)"
   ]
  },
  {
   "cell_type": "code",
   "execution_count": 5,
   "metadata": {},
   "outputs": [
    {
     "name": "stdout",
     "output_type": "stream",
     "text": [
      "fc1.weight: 393216 parameters\n",
      "fc1.bias: 128 parameters\n",
      "fc2.weight: 128 parameters\n",
      "fc2.bias: 1 parameters\n",
      "Total parameters: 393473\n"
     ]
    }
   ],
   "source": [
    "def count_parameters(model):\n",
    "    \"\"\"\n",
    "    모델의 파라미터 수를 계산하는 함수\n",
    "    \"\"\"\n",
    "    total_params = sum(p.numel() for p in model.parameters())\n",
    "    return total_params\n",
    "\n",
    "def print_model_parameters(model):\n",
    "    \"\"\"\n",
    "    모델의 각 레이어와 그 파라미터 수를 출력하는 함수\n",
    "    \"\"\"\n",
    "    for name, param in model.named_parameters():\n",
    "        print(f\"{name}: {param.numel()} parameters\")\n",
    "    print(f\"Total parameters: {count_parameters(model)}\")\n",
    "\n",
    "# 모델의 파라미터 수 출력\n",
    "print_model_parameters(model)"
   ]
  },
  {
   "cell_type": "markdown",
   "metadata": {},
   "source": [
    "# Loss"
   ]
  },
  {
   "cell_type": "markdown",
   "metadata": {},
   "source": [
    "$\n",
    "\\begin{align}\n",
    "-\\frac{1}{N}\\sum_{i=1}^N[y_ilog(p_i)+(1-y_i)log(1-p_i)]\n",
    "\\end{align}\n",
    "$"
   ]
  },
  {
   "cell_type": "markdown",
   "metadata": {},
   "source": [
    "1. 선형 모델의 출력: [0.5, -1.2, 0.8]\n",
    "2. Sigmoid의 출력: [0.62245933, 0.23147522, 0.68997448]\n",
    "3. 실제 레이블: [1, 0, 1]"
   ]
  },
  {
   "cell_type": "code",
   "execution_count": 6,
   "metadata": {},
   "outputs": [],
   "source": [
    "# 이진 크로스 엔트로피 손실 함수\n",
    "# 모델의 예측 확률과 실제 레이블 간의 차이를 측정하여, 예측이 정확할수록 손실을 줄이는 방향으로 모델을 학습시킵니다.\n",
    "criterion = nn.BCELoss()  # Binary Cross Entropy Loss"
   ]
  },
  {
   "cell_type": "markdown",
   "metadata": {},
   "source": [
    "# Optimizer"
   ]
  },
  {
   "cell_type": "code",
   "execution_count": 7,
   "metadata": {},
   "outputs": [],
   "source": [
    "import torch.optim as optim\n",
    "\n",
    "optimizer = optim.SGD(model.parameters(), lr=learning_rate)"
   ]
  },
  {
   "cell_type": "markdown",
   "metadata": {},
   "source": [
    "# Train"
   ]
  },
  {
   "cell_type": "code",
   "execution_count": 8,
   "metadata": {},
   "outputs": [
    {
     "name": "stdout",
     "output_type": "stream",
     "text": [
      "Epoch 1/10, Loss: 0.6943\n",
      "Epoch 2/10, Loss: 0.6941\n",
      "Epoch 3/10, Loss: 0.6938\n",
      "Epoch 4/10, Loss: 0.6936\n",
      "Epoch 5/10, Loss: 0.6933\n",
      "Epoch 6/10, Loss: 0.6931\n",
      "Epoch 7/10, Loss: 0.6929\n",
      "Epoch 8/10, Loss: 0.6927\n",
      "Epoch 9/10, Loss: 0.6925\n",
      "Epoch 10/10, Loss: 0.6923\n"
     ]
    }
   ],
   "source": [
    "# 학습 루프 시작\n",
    "for epoch in range(num_epochs):\n",
    "    model.train()\n",
    "    running_loss = 0.0  # 에폭 동안의 총 손실을 저장할 변수\n",
    "\n",
    "    for images, labels in train_loader:\n",
    "        # 모델에 입력하기 위해서 이미지를 (32, 32, 32, 3) 크기에서 (32, 3072)로 변형\n",
    "        images = images.view(images.size(0), -1)\n",
    "\n",
    "        # 레이블을 float형으로 변환하고 (batch_size,) 모양을 (batch_size, 1)로 변형\n",
    "        # BCE 손실 함수는 레이블이 float형이어야 함\n",
    "        labels = labels.float().view(-1, 1)\n",
    "\n",
    "        # 순전파(Forward pass): 모델에 입력 데이터를 통과시켜 예측값을 얻음\n",
    "        outputs = model(images)\n",
    "\n",
    "        # 손실 함수 계산: 모델의 예측값과 실제 레이블 간의 손실을 계산\n",
    "        loss = criterion(outputs, labels)\n",
    "\n",
    "        # 역전파(Backward pass) 및 최적화\n",
    "        optimizer.zero_grad()  # 이전의 기울기(gradient) 값을 초기화\n",
    "        loss.backward()  # 손실 함수에 대한 기울기를 계산\n",
    "        optimizer.step()  # 계산된 기울기로 모델 파라미터를 업데이트\n",
    "\n",
    "        # 배치 손실을 총 손실에 추가\n",
    "        running_loss += loss.item() * images.size(0)  # .item()은 텐서에서 값을 추출\n",
    "\n",
    "    # 에폭 당 평균 손실을 계산\n",
    "    epoch_loss = running_loss / len(train_loader.dataset)\n",
    "    \n",
    "    # 에폭이 끝날 때마다 손실 값을 출력\n",
    "    print(f'Epoch {epoch + 1}/{num_epochs}, Loss: {epoch_loss:.4f}')\n"
   ]
  },
  {
   "cell_type": "markdown",
   "metadata": {},
   "source": [
    "# Predict"
   ]
  },
  {
   "cell_type": "code",
   "execution_count": 9,
   "metadata": {},
   "outputs": [
    {
     "name": "stdout",
     "output_type": "stream",
     "text": [
      "Test Set Accuracy: 47.50%\n"
     ]
    }
   ],
   "source": [
    "# 모델을 평가 모드로 설정\n",
    "model.eval()\n",
    "correct = 0\n",
    "total = 0\n",
    "\n",
    "# 평가 중 기울기 계산을 비활성화 (메모리 절약 및 연산 속도 향상)\n",
    "with torch.no_grad():\n",
    "    # 테스트 데이터 로더를 통해 배치 단위로 테스트 데이터를 순회\n",
    "    for images, labels in test_loader:\n",
    "        # 이미지를 (32x32x3) 크기에서 (3072,)로 변형\n",
    "        images = images.view(images.size(0), -1)\n",
    "\n",
    "        # 레이블을 float형으로 변환하고 (batch_size,) 모양을 (batch_size, 1)로 변형\n",
    "        labels = labels.float().view(-1, 1)\n",
    "\n",
    "        # 모델에 이미지를 통과시켜 예측값을 얻음\n",
    "        outputs = model(images)\n",
    "\n",
    "        # 예측 확률이 0.5보다 크면 1(positive class)로, 그렇지 않으면 0으로 변환\n",
    "        predicted = (outputs > 0.5).float()\n",
    "\n",
    "        # 총 샘플 수를 업데이트\n",
    "        total += labels.size(0)\n",
    "        # 맞춘 샘플의 수를 업데이트\n",
    "        correct += (predicted == labels).sum().item()\n",
    "\n",
    "# 정확도 계산\n",
    "accuracy = correct / total\n",
    "# 정확도를 백분율로 출력\n",
    "print(f\"Test Set Accuracy: {accuracy * 100:.2f}%\")\n"
   ]
  },
  {
   "cell_type": "code",
   "execution_count": null,
   "metadata": {},
   "outputs": [],
   "source": []
  }
 ],
 "metadata": {
  "kernelspec": {
   "display_name": "Python 3",
   "language": "python",
   "name": "python3"
  },
  "language_info": {
   "codemirror_mode": {
    "name": "ipython",
    "version": 3
   },
   "file_extension": ".py",
   "mimetype": "text/x-python",
   "name": "python",
   "nbconvert_exporter": "python",
   "pygments_lexer": "ipython3",
   "version": "3.10.12"
  }
 },
 "nbformat": 4,
 "nbformat_minor": 2
}
