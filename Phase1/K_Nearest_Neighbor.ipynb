{
 "cells": [
  {
   "cell_type": "markdown",
   "metadata": {},
   "source": [
    "# Dataset"
   ]
  },
  {
   "cell_type": "markdown",
   "metadata": {},
   "source": [
    "### 이미지 불러오기"
   ]
  },
  {
   "cell_type": "code",
   "execution_count": 1,
   "metadata": {},
   "outputs": [],
   "source": [
    "import os\n",
    "import cv2\n",
    "\n",
    "\n",
    "# 폴더 경로에 존재하는 이미지 파일을 읽어오는 함수\n",
    "def load_images_from_folder(dir_path):\n",
    "    images = []\n",
    "    labels = []\n",
    "    label = dir_path.split('/')[-1] # 'cat' 또는 'dog'\n",
    "    for file_name in os.listdir(dir_path):\n",
    "        image_path = os.path.join(dir_path, file_name) # 이미지 파일 경로\n",
    "        image = cv2.imread(image_path) # 이미지 읽어오기\n",
    "        image = cv2.resize(image, (32, 32)) # 이미지의 크기를 (32, 32)로 조정\n",
    "        image = image.reshape(-1) # 이미지를 1차원으로 변경\n",
    "        images.append(image)\n",
    "        labels.append(label)\n",
    "\n",
    "    return images, labels"
   ]
  },
  {
   "cell_type": "code",
   "execution_count": 2,
   "metadata": {},
   "outputs": [
    {
     "name": "stdout",
     "output_type": "stream",
     "text": [
      "이미지 모양: (3072,)\n",
      "고양이 데이터 갯수: 100\n",
      "강아지 데이터 갯수: 100\n"
     ]
    }
   ],
   "source": [
    "cat_images, cat_labels = load_images_from_folder('../data/cifar10_images/cat')\n",
    "dog_images, dog_labels = load_images_from_folder('../data/cifar10_images/dog')\n",
    "\n",
    "print(f\"이미지 모양: {cat_images[0].shape}\")\n",
    "print(f\"고양이 데이터 갯수: {len(cat_labels)}\")\n",
    "print(f\"강아지 데이터 갯수: {len(dog_labels)}\")"
   ]
  },
  {
   "cell_type": "markdown",
   "metadata": {},
   "source": [
    "### 레이블 벡터화"
   ]
  },
  {
   "cell_type": "code",
   "execution_count": 3,
   "metadata": {},
   "outputs": [
    {
     "name": "stdout",
     "output_type": "stream",
     "text": [
      "벡터화된 레이블: [0 0 0 0 0 0 0 0 0 0]\n"
     ]
    }
   ],
   "source": [
    "import numpy as np\n",
    "\n",
    "# 데이터와 레이블 병함\n",
    "images = np.array(cat_images + dog_images)\n",
    "labels = np.array(cat_labels + dog_labels)\n",
    "\n",
    "# 레이블 -> 벡터\n",
    "label_to_index = {'cat': 0, 'dog': 1}\n",
    "indexed_labels = np.array([label_to_index[label] for label in labels])\n",
    "\n",
    "print(f\"벡터화된 레이블: {indexed_labels[:10]}\")"
   ]
  },
  {
   "cell_type": "markdown",
   "metadata": {},
   "source": [
    "### 학습 데이터와 테스트 데이터 나누기"
   ]
  },
  {
   "cell_type": "code",
   "execution_count": 4,
   "metadata": {},
   "outputs": [
    {
     "name": "stdout",
     "output_type": "stream",
     "text": [
      "학습 데이터 갯수: 160\n",
      "테스트 데이터 갯수: 40\n"
     ]
    }
   ],
   "source": [
    "from sklearn.model_selection import train_test_split\n",
    "\n",
    "x_train, x_test, y_train, y_test = train_test_split(images, indexed_labels, test_size=0.2, random_state=42)\n",
    "\n",
    "print(f\"학습 데이터 갯수: {len(y_train)}\")\n",
    "print(f\"테스트 데이터 갯수: {len(y_test)}\")"
   ]
  },
  {
   "cell_type": "markdown",
   "metadata": {},
   "source": [
    "# Distance Matrix"
   ]
  },
  {
   "cell_type": "code",
   "execution_count": 5,
   "metadata": {},
   "outputs": [],
   "source": [
    "# L1 거리 계산 함수\n",
    "def l1_distance(a, b):\n",
    "    return np.sum(np.abs(a - b))"
   ]
  },
  {
   "cell_type": "code",
   "execution_count": 6,
   "metadata": {},
   "outputs": [],
   "source": [
    "# L2 거리 계산 함수\n",
    "def l2_distance(a, b):\n",
    "    return np.sqrt(np.sum((a - b)**2))"
   ]
  },
  {
   "cell_type": "markdown",
   "metadata": {},
   "source": [
    "# K-Nearest Neighbor"
   ]
  },
  {
   "cell_type": "code",
   "execution_count": 18,
   "metadata": {},
   "outputs": [],
   "source": [
    "from collections import Counter\n",
    "\n",
    "\n",
    "class KNearestNeighbor:\n",
    "    def __init__(self, k=3, metric='l2'):\n",
    "        self.k = k\n",
    "        if metric == 'l1':\n",
    "            self.distance_matrix = l1_distance\n",
    "        elif metric == 'l2':\n",
    "            self.distance_matrix = l2_distance\n",
    "        else:\n",
    "            raise ValueError(\"지원하지 않는 함수입니다. l1과 l2 중에서 선택해주세요.\")\n",
    "    \n",
    "    def train(self, x, y):\n",
    "        # 입력 받은 학습 데이터를 저장\n",
    "        self.x_train_list = x\n",
    "        self.y_train_list = y\n",
    "    \n",
    "    def predict(self, inputs):\n",
    "        # 입력 받은 데이터와 가지고 있는 학습 데이터를 비교하여 상위 k개의 비율을 측정하여 결과 도출\n",
    "        predictions = []\n",
    "        for input in inputs:\n",
    "            distances = [self.distance_matrix(input, x_train) for x_train in self.x_train_list]\n",
    "            k_indices = np.argsort(distances)[:self.k]\n",
    "            k_nearest_labels = [self.y_train_list[i] for i in k_indices]\n",
    "            most_common = Counter(k_nearest_labels).most_common(1)\n",
    "            predictions.append(most_common[0][0])\n",
    "        \n",
    "        return predictions"
   ]
  },
  {
   "cell_type": "markdown",
   "metadata": {},
   "source": [
    "### Train"
   ]
  },
  {
   "cell_type": "code",
   "execution_count": 25,
   "metadata": {},
   "outputs": [],
   "source": [
    "knn = KNearestNeighbor(k=5, metric='l2') # k를 1로 설정하면 Nearest_Neighbor가 된다.\n",
    "knn.train(x_train, y_train)"
   ]
  },
  {
   "cell_type": "markdown",
   "metadata": {},
   "source": [
    "### Predict"
   ]
  },
  {
   "cell_type": "code",
   "execution_count": 26,
   "metadata": {},
   "outputs": [
    {
     "name": "stdout",
     "output_type": "stream",
     "text": [
      "실제 값의 일부: [0 0 0 1 1]\n",
      "예측 값의 일부: [1, 0, 1, 0, 1]\n",
      "Nearest Neighbor의 정확도: 0.525\n"
     ]
    }
   ],
   "source": [
    "from sklearn.metrics import accuracy_score\n",
    "\n",
    "knn_predictions = knn.predict(x_test)\n",
    "print(f\"실제 값의 일부: {y_test[:5]}\")\n",
    "print(f\"예측 값의 일부: {knn_predictions[:5]}\")\n",
    "print(f\"Nearest Neighbor의 정확도: {accuracy_score(y_test, knn_predictions)}\")"
   ]
  },
  {
   "cell_type": "markdown",
   "metadata": {},
   "source": [
    "# scikit learn"
   ]
  },
  {
   "cell_type": "code",
   "execution_count": 31,
   "metadata": {},
   "outputs": [
    {
     "name": "stdout",
     "output_type": "stream",
     "text": [
      "Nearest Neighbor의 정확도 (k=1): 0.55\n",
      "K-Nearest Neighbor의 정확도 (k=5): 0.5\n"
     ]
    }
   ],
   "source": [
    "from sklearn.neighbors import KNeighborsClassifier\n",
    "\n",
    "knn = KNeighborsClassifier(n_neighbors=1, metric='euclidean')\n",
    "knn.fit(x_train, y_train) # 학습\n",
    "nn_predictions = knn.predict(x_test)\n",
    "\n",
    "knn = KNeighborsClassifier(n_neighbors=5, metric='euclidean')\n",
    "knn.fit(x_train, y_train) # 학습\n",
    "knn_predictions = knn.predict(x_test)\n",
    "\n",
    "# 정확도 계산\n",
    "nn_accuracy = accuracy_score(y_test, nn_predictions)\n",
    "knn_accuracy = accuracy_score(y_test, knn_predictions)\n",
    "\n",
    "print(\"Nearest Neighbor의 정확도 (k=1):\", nn_accuracy)\n",
    "print(\"K-Nearest Neighbor의 정확도 (k=5):\", knn_accuracy)"
   ]
  },
  {
   "cell_type": "code",
   "execution_count": null,
   "metadata": {},
   "outputs": [],
   "source": []
  }
 ],
 "metadata": {
  "kernelspec": {
   "display_name": "Python 3",
   "language": "python",
   "name": "python3"
  },
  "language_info": {
   "codemirror_mode": {
    "name": "ipython",
    "version": 3
   },
   "file_extension": ".py",
   "mimetype": "text/x-python",
   "name": "python",
   "nbconvert_exporter": "python",
   "pygments_lexer": "ipython3",
   "version": "3.10.12"
  }
 },
 "nbformat": 4,
 "nbformat_minor": 2
}
