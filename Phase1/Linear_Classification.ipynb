{
 "cells": [
  {
   "cell_type": "markdown",
   "metadata": {},
   "source": [
    "# Dataset"
   ]
  },
  {
   "cell_type": "markdown",
   "metadata": {},
   "source": [
    "### 이미지 불러오기"
   ]
  },
  {
   "cell_type": "code",
   "execution_count": 1,
   "metadata": {},
   "outputs": [],
   "source": [
    "import os\n",
    "import cv2\n",
    "\n",
    "\n",
    "# 폴더 경로에 존재하는 이미지 파일을 읽어오는 함수\n",
    "def load_images_from_folder(dir_path):\n",
    "    images = []\n",
    "    labels = []\n",
    "    label = dir_path.split('/')[-1] # 'cat' 또는 'dog'\n",
    "    for file_name in os.listdir(dir_path):\n",
    "        image_path = os.path.join(dir_path, file_name) # 이미지 파일 경로\n",
    "        image = cv2.imread(image_path) # 이미지 읽어오기\n",
    "        image = cv2.resize(image, (32, 32)) # 이미지의 크기를 (32, 32)로 조정\n",
    "        image = image.reshape(-1) # 이미지를 1차원으로 변경\n",
    "        image = image / 255.0 # 데이터 정규화\n",
    "        images.append(image)\n",
    "        labels.append(label)\n",
    "\n",
    "    return images, labels"
   ]
  },
  {
   "cell_type": "code",
   "execution_count": 2,
   "metadata": {},
   "outputs": [
    {
     "name": "stdout",
     "output_type": "stream",
     "text": [
      "이미지 모양: (3072,)\n",
      "고양이 데이터 갯수: 500\n",
      "강아지 데이터 갯수: 500\n"
     ]
    }
   ],
   "source": [
    "cat_images, cat_labels = load_images_from_folder('../data/cifar10_images/cat')\n",
    "dog_images, dog_labels = load_images_from_folder('../data/cifar10_images/dog')\n",
    "\n",
    "print(f\"이미지 모양: {cat_images[0].shape}\")\n",
    "print(f\"고양이 데이터 갯수: {len(cat_labels)}\")\n",
    "print(f\"강아지 데이터 갯수: {len(dog_labels)}\")"
   ]
  },
  {
   "cell_type": "markdown",
   "metadata": {},
   "source": [
    "### 레이블 벡터화"
   ]
  },
  {
   "cell_type": "code",
   "execution_count": 3,
   "metadata": {},
   "outputs": [
    {
     "name": "stdout",
     "output_type": "stream",
     "text": [
      "벡터화된 레이블: [0 0 0 0 0 0 0 0 0 0]\n"
     ]
    }
   ],
   "source": [
    "import numpy as np\n",
    "\n",
    "# 데이터와 레이블 병함\n",
    "images = np.array(cat_images + dog_images)\n",
    "labels = np.array(cat_labels + dog_labels)\n",
    "\n",
    "# 레이블 -> 벡터\n",
    "label_to_index = {'cat': 0, 'dog': 1}\n",
    "indexed_labels = np.array([label_to_index[label] for label in labels])\n",
    "\n",
    "print(f\"벡터화된 레이블: {indexed_labels[:10]}\")"
   ]
  },
  {
   "cell_type": "markdown",
   "metadata": {},
   "source": [
    "### 학습 데이터와 테스트 데이터 나누기"
   ]
  },
  {
   "cell_type": "code",
   "execution_count": 4,
   "metadata": {},
   "outputs": [
    {
     "name": "stdout",
     "output_type": "stream",
     "text": [
      "학습 데이터 갯수: 800\n",
      "테스트 데이터 갯수: 200\n"
     ]
    }
   ],
   "source": [
    "from sklearn.model_selection import train_test_split\n",
    "\n",
    "x_train, x_test, y_train, y_test = train_test_split(images, indexed_labels, test_size=0.2, random_state=42)\n",
    "\n",
    "# 손실 함수 사용을 위한 레이블 모양 변경\n",
    "y_train = y_train.reshape((800, 1))\n",
    "y_test = y_test.reshape((200, 1))\n",
    "\n",
    "print(f\"학습 데이터 갯수: {len(y_train)}\")\n",
    "print(f\"테스트 데이터 갯수: {len(y_test)}\")"
   ]
  },
  {
   "cell_type": "markdown",
   "metadata": {},
   "source": [
    "# HyperParameter"
   ]
  },
  {
   "cell_type": "code",
   "execution_count": 5,
   "metadata": {},
   "outputs": [],
   "source": [
    "num_features = 3072 # 입력 데이터의 크기\n",
    "num_samples = 800 # 학습 데이터의 갯수\n",
    "learning_rate = 0.0001 # 스텝 크기\n",
    "num_iterations = 1000 # 최적화 진행 횟수"
   ]
  },
  {
   "cell_type": "markdown",
   "metadata": {},
   "source": [
    "# Model"
   ]
  },
  {
   "cell_type": "code",
   "execution_count": 6,
   "metadata": {},
   "outputs": [],
   "source": [
    "# 선형 모델 초기화\n",
    "W = np.random.randn(num_features, 1)\n",
    "b = np.random.randn(1)"
   ]
  },
  {
   "cell_type": "markdown",
   "metadata": {},
   "source": [
    "# Non-linear function"
   ]
  },
  {
   "cell_type": "code",
   "execution_count": 7,
   "metadata": {},
   "outputs": [],
   "source": [
    "# 입력 받은 logit 값들의 범위를 0과 1 사이로 변형\n",
    "def sigmoid(z):\n",
    "    return 1 / (1 + np.exp(-z))"
   ]
  },
  {
   "cell_type": "markdown",
   "metadata": {},
   "source": [
    "# Loss"
   ]
  },
  {
   "cell_type": "markdown",
   "metadata": {},
   "source": [
    "$\n",
    "\\begin{align}\n",
    "-\\frac{1}{N}\\sum_{i=1}^N[y_ilog(p_i)+(1-y_i)log(1-p_i)]\n",
    "\\end{align}\n",
    "$"
   ]
  },
  {
   "cell_type": "markdown",
   "metadata": {},
   "source": [
    "1. 선형 모델의 출력: [0.5, -1.2, 0.8]\n",
    "2. Sigmoid의 출력: [0.62245933, 0.23147522, 0.68997448]\n",
    "3. 실제 레이블: [1, 0, 1]"
   ]
  },
  {
   "cell_type": "code",
   "execution_count": 8,
   "metadata": {},
   "outputs": [],
   "source": [
    "# 이진 크로스 엔트로피 손실 함수\n",
    "# 모델의 예측 확률과 실제 레이블 간의 차이를 측정하여, 예측이 정확할수록 손실을 줄이는 방향으로 모델을 학습시킵니다.\n",
    "def binary_cross_entropy(y_true, y_pred):\n",
    "    epsilon = 1e-15\n",
    "    y_pred = np.clip(y_pred, epsilon, 1 - epsilon)  # Numerical stability\n",
    "    loss = -np.mean(y_true * np.log(y_pred) + (1 - y_true) * np.log(1 - y_pred))\n",
    "    return loss"
   ]
  },
  {
   "cell_type": "markdown",
   "metadata": {},
   "source": [
    "# Train"
   ]
  },
  {
   "cell_type": "code",
   "execution_count": 9,
   "metadata": {},
   "outputs": [
    {
     "name": "stdout",
     "output_type": "stream",
     "text": [
      "Iteration 0, Loss: 12.363720921718873\n",
      "Iteration 100, Loss: 10.46257272067155\n",
      "Iteration 200, Loss: 8.421303153236783\n",
      "Iteration 300, Loss: 6.66053147675542\n",
      "Iteration 400, Loss: 5.491611588435436\n",
      "Iteration 500, Loss: 4.893676508633495\n",
      "Iteration 600, Loss: 4.606196418950369\n",
      "Iteration 700, Loss: 4.466338877698652\n",
      "Iteration 800, Loss: 4.397349998007791\n",
      "Iteration 900, Loss: 4.357801414376649\n",
      "Final Loss: 4.330735984599587\n"
     ]
    }
   ],
   "source": [
    "# 경사 하강법을 통한 학습\n",
    "for i in range(num_iterations):\n",
    "    # 선형 모델의 예측 계산\n",
    "    z = np.dot(x_train, W) + b # Wx + b\n",
    "    # 활성화 함수 Sigmoid 통과\n",
    "    y_hat = sigmoid(z)\n",
    "    \n",
    "    # 손실 계산\n",
    "    loss = binary_cross_entropy(y_train, y_hat)\n",
    "    \n",
    "    # 손실의 W 및 b에 대한 미분 계산 (Backpropagation)\n",
    "    dW = -2 * np.dot(x_train.T, (y_train - y_hat)) / num_samples\n",
    "    db = -2 * np.sum(y_train - y_hat) / num_samples\n",
    "    \n",
    "    # 매개변수 업데이트\n",
    "    W -= learning_rate * dW\n",
    "    b -= learning_rate * db\n",
    "    \n",
    "    if i % 100 == 0:\n",
    "        print(f\"Iteration {i}, Loss: {loss}\")\n",
    "\n",
    "# 최종 손실 출력\n",
    "print(f\"Final Loss: {loss}\")"
   ]
  },
  {
   "cell_type": "markdown",
   "metadata": {},
   "source": [
    "# Predict"
   ]
  },
  {
   "cell_type": "code",
   "execution_count": 10,
   "metadata": {},
   "outputs": [
    {
     "name": "stdout",
     "output_type": "stream",
     "text": [
      "Test Set Accuracy: 53.50%\n"
     ]
    }
   ],
   "source": [
    "z = np.dot(x_test, W) + b\n",
    "\n",
    "# 시그모이드 함수는 모델의 출력을 [0, 1] 사이의 확률 값으로 변환합니다.\n",
    "y_hat_test = sigmoid(z)\n",
    "\n",
    "# 확률이 0.5보다 큰 경우를 '1' (dog)로, 그렇지 않은 경우를 '0' (cat)로 변환합니다.\n",
    "y_pred_test = (y_hat_test > 0.5).astype(int)\n",
    "\n",
    "# 정확도를 계산합니다.\n",
    "accuracy = np.mean(y_pred_test == y_test)\n",
    "\n",
    "# 계산된 정확도를 백분율로 출력합니다.\n",
    "print(f\"Test Set Accuracy: {accuracy * 100:.2f}%\")\n"
   ]
  },
  {
   "cell_type": "code",
   "execution_count": null,
   "metadata": {},
   "outputs": [],
   "source": []
  }
 ],
 "metadata": {
  "kernelspec": {
   "display_name": "Python 3",
   "language": "python",
   "name": "python3"
  },
  "language_info": {
   "codemirror_mode": {
    "name": "ipython",
    "version": 3
   },
   "file_extension": ".py",
   "mimetype": "text/x-python",
   "name": "python",
   "nbconvert_exporter": "python",
   "pygments_lexer": "ipython3",
   "version": "3.10.12"
  }
 },
 "nbformat": 4,
 "nbformat_minor": 2
}
