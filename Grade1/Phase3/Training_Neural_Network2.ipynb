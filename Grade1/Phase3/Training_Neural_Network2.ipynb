{
 "cells": [
  {
   "cell_type": "markdown",
   "metadata": {},
   "source": [
    "# Seed"
   ]
  },
  {
   "cell_type": "code",
   "execution_count": 1,
   "metadata": {},
   "outputs": [],
   "source": [
    "import random\n",
    "import torch\n",
    "import numpy as np"
   ]
  },
  {
   "cell_type": "code",
   "execution_count": 2,
   "metadata": {},
   "outputs": [],
   "source": [
    "def seed_everything(seed=5):\n",
    "    random.seed(seed)\n",
    "    np.random.seed(seed)\n",
    "\n",
    "    torch.manual_seed(seed)\n",
    "    if torch.cuda.is_available():\n",
    "        torch.cuda.manual_seed(seed)\n",
    "        torch.cuda.manual_seed_all(seed)\n",
    "\n",
    "    torch.backends.cudnn.deterministic = True\n",
    "    torch.backends.cudnn.benchmark = False\n",
    "\n",
    "seed_everything()"
   ]
  },
  {
   "cell_type": "markdown",
   "metadata": {},
   "source": [
    "# DataSet"
   ]
  },
  {
   "cell_type": "code",
   "execution_count": 3,
   "metadata": {},
   "outputs": [],
   "source": [
    "import os\n",
    "from PIL import Image\n",
    "from torch.utils.data import Dataset, DataLoader, random_split\n",
    "from torchvision import transforms"
   ]
  },
  {
   "cell_type": "code",
   "execution_count": 4,
   "metadata": {},
   "outputs": [],
   "source": [
    "cat_image_path = \"../data/cifar10_images/cat\"\n",
    "dog_image_path = \"../data/cifar10_images/dog\""
   ]
  },
  {
   "cell_type": "code",
   "execution_count": 5,
   "metadata": {},
   "outputs": [],
   "source": [
    "class CustomDataset(Dataset):\n",
    "    def __init__(self, dir_paths, transform=None):\n",
    "        self.images = []\n",
    "        self.labels = []\n",
    "        self.transform = transform\n",
    "\n",
    "        for dir_path in dir_paths:\n",
    "            label = os.path.basename(dir_path)\n",
    "            for file_name in os.listdir(dir_path):\n",
    "                image_path = os.path.join(dir_path, file_name)\n",
    "                image = Image.open(image_path).convert('RGB')\n",
    "                if self.transform:\n",
    "                    image = self.transform(image)\n",
    "                self.images.append(image)\n",
    "                self.labels.append(label)\n",
    "\n",
    "        self.label_to_index = {'cat': 0, 'dog': 1}\n",
    "        self.labels = [self.label_to_index[label] for label in self.labels]\n",
    "\n",
    "    def __len__(self):\n",
    "        return len(self.images)\n",
    "\n",
    "    def __getitem__(self, idx):\n",
    "        image = self.images[idx]\n",
    "        label = self.labels[idx]\n",
    "        return image, label"
   ]
  },
  {
   "cell_type": "code",
   "execution_count": 6,
   "metadata": {},
   "outputs": [],
   "source": [
    "train_transform = transforms.Compose([\n",
    "    transforms.RandomHorizontalFlip(),\n",
    "    transforms.RandomVerticalFlip(),\n",
    "    transforms.RandomRotation(45),\n",
    "    transforms.ColorJitter(brightness=0.2, contrast=0.2, saturation=0.2, hue=0.2),\n",
    "    transforms.RandomResizedCrop(32, scale=(0.8, 1.0)),\n",
    "    transforms.Resize((32, 32)),\n",
    "    transforms.ToTensor(),\n",
    "])\n",
    "\n",
    "test_transform = transforms.Compose([\n",
    "    transforms.Resize((32, 32)),\n",
    "    transforms.ToTensor(),\n",
    "])"
   ]
  },
  {
   "cell_type": "code",
   "execution_count": 7,
   "metadata": {},
   "outputs": [
    {
     "name": "stdout",
     "output_type": "stream",
     "text": [
      "number of dataset: 1000\n"
     ]
    }
   ],
   "source": [
    "dataset = CustomDataset(dir_paths=[cat_image_path, dog_image_path], transform=test_transform)\n",
    "\n",
    "print(f\"number of dataset: {len(dataset)}\")"
   ]
  },
  {
   "cell_type": "code",
   "execution_count": 8,
   "metadata": {},
   "outputs": [
    {
     "name": "stdout",
     "output_type": "stream",
     "text": [
      "number of train dataset: 700\n",
      "number of valid dataset: 150\n",
      "number of test dataset: 150\n"
     ]
    }
   ],
   "source": [
    "train_size = int(0.7 * len(dataset))\n",
    "valid_size = int(0.15 * len(dataset))\n",
    "test_size = len(dataset) - train_size - valid_size\n",
    "train_dataset, valid_dataset, test_dataset = random_split(dataset, [train_size, valid_size, test_size])\n",
    "\n",
    "print(f\"number of train dataset: {len(train_dataset)}\")\n",
    "print(f\"number of valid dataset: {len(valid_dataset)}\")\n",
    "print(f\"number of test dataset: {len(test_dataset)}\")"
   ]
  },
  {
   "cell_type": "code",
   "execution_count": 9,
   "metadata": {},
   "outputs": [],
   "source": [
    "train_dataset.dataset.transform = train_transform"
   ]
  },
  {
   "cell_type": "code",
   "execution_count": 10,
   "metadata": {},
   "outputs": [
    {
     "name": "stdout",
     "output_type": "stream",
     "text": [
      "data shape: torch.Size([16, 3, 32, 32])\n",
      "label shape: torch.Size([16])\n"
     ]
    }
   ],
   "source": [
    "batch_size = 16\n",
    "\n",
    "train_loader = DataLoader(train_dataset, batch_size=batch_size, shuffle=True)\n",
    "valid_loader = DataLoader(valid_dataset, batch_size=batch_size, shuffle=False)\n",
    "test_loader = DataLoader(test_dataset, batch_size=batch_size, shuffle=False)\n",
    "\n",
    "for image, label in train_loader:\n",
    "    print(f\"data shape: {image.size()}\")\n",
    "    print(f\"label shape: {label.size()}\")\n",
    "    break"
   ]
  },
  {
   "cell_type": "markdown",
   "metadata": {},
   "source": [
    "# HyperParameter"
   ]
  },
  {
   "cell_type": "code",
   "execution_count": 11,
   "metadata": {},
   "outputs": [],
   "source": [
    "input_size = 32 * 32 * 3\n",
    "hidden_size = 128\n",
    "learning_rate = 0.0001\n",
    "num_epochs = 100\n",
    "weight_decay = 1e-4"
   ]
  },
  {
   "cell_type": "markdown",
   "metadata": {},
   "source": [
    "# Weight Initalize"
   ]
  },
  {
   "cell_type": "code",
   "execution_count": 12,
   "metadata": {},
   "outputs": [],
   "source": [
    "import torch.nn as nn"
   ]
  },
  {
   "cell_type": "code",
   "execution_count": 13,
   "metadata": {},
   "outputs": [],
   "source": [
    "def weights_init(m):\n",
    "    if isinstance(m, nn.Linear):\n",
    "        nn.init.kaiming_normal_(m.weight)\n",
    "        if m.bias is not None:\n",
    "            nn.init.zeros_(m.bias)"
   ]
  },
  {
   "cell_type": "markdown",
   "metadata": {},
   "source": [
    "# Model"
   ]
  },
  {
   "cell_type": "code",
   "execution_count": 14,
   "metadata": {},
   "outputs": [],
   "source": [
    "class SimpleNN(nn.Module):\n",
    "    def __init__(self, input_size, hidden_size, dropout_prob=0.5):\n",
    "        super(SimpleNN, self).__init__()\n",
    "        self.fc1 = nn.Linear(input_size, hidden_size)\n",
    "        self.fc2 = nn.Linear(hidden_size, 1)\n",
    "        self.relu = nn.ReLU()\n",
    "        self.sigmoid = nn.Sigmoid()\n",
    "        self.dropout = nn.Dropout(dropout_prob)\n",
    "\n",
    "    def forward(self, x):\n",
    "        x = self.fc1(x)\n",
    "        x = self.relu(x)\n",
    "        x = self.dropout(x)\n",
    "        x = self.fc2(x)\n",
    "        x = self.sigmoid(x)\n",
    "\n",
    "        return x\n",
    "model = SimpleNN(input_size=input_size, hidden_size=hidden_size)"
   ]
  },
  {
   "cell_type": "code",
   "execution_count": 15,
   "metadata": {},
   "outputs": [
    {
     "name": "stdout",
     "output_type": "stream",
     "text": [
      "fc1.weight: 393216 parameters\n",
      "fc1.bias: 128 parameters\n",
      "fc2.weight: 128 parameters\n",
      "fc2.bias: 1 parameters\n",
      "Total parameters: 393473\n"
     ]
    }
   ],
   "source": [
    "def count_parameters(model):\n",
    "    total_params = sum(p.numel() for p in model.parameters())\n",
    "\n",
    "    return total_params\n",
    "\n",
    "def print_model_parameters(model):\n",
    "    for name, param in model.named_parameters():\n",
    "        print(f\"{name}: {param.numel()} parameters\")\n",
    "    print(f\"Total parameters: {count_parameters(model)}\")\n",
    "\n",
    "print_model_parameters(model)"
   ]
  },
  {
   "cell_type": "markdown",
   "metadata": {},
   "source": [
    "# Loss"
   ]
  },
  {
   "cell_type": "code",
   "execution_count": 16,
   "metadata": {},
   "outputs": [],
   "source": [
    "criterion = nn.BCELoss()"
   ]
  },
  {
   "cell_type": "markdown",
   "metadata": {},
   "source": [
    "# Optimizer"
   ]
  },
  {
   "cell_type": "code",
   "execution_count": 17,
   "metadata": {},
   "outputs": [],
   "source": [
    "import torch.optim as optim"
   ]
  },
  {
   "cell_type": "code",
   "execution_count": 18,
   "metadata": {},
   "outputs": [],
   "source": [
    "optimizer = optim.Adam(model.parameters(), lr=learning_rate, weight_decay=weight_decay)"
   ]
  },
  {
   "cell_type": "markdown",
   "metadata": {},
   "source": [
    "# Train"
   ]
  },
  {
   "cell_type": "code",
   "execution_count": 19,
   "metadata": {},
   "outputs": [
    {
     "name": "stdout",
     "output_type": "stream",
     "text": [
      "Epoch 1/100, Loss: 0.6994\n",
      "Epoch 1/100, Validation Loss: 0.6695\n",
      "Epoch 2/100, Loss: 0.6938\n",
      "Epoch 2/100, Validation Loss: 0.6636\n",
      "Epoch 3/100, Loss: 0.6888\n",
      "Epoch 3/100, Validation Loss: 0.6878\n",
      "Epoch 4/100, Loss: 0.6799\n",
      "Epoch 4/100, Validation Loss: 0.6521\n",
      "Epoch 5/100, Loss: 0.6899\n",
      "Epoch 5/100, Validation Loss: 0.6611\n",
      "Epoch 6/100, Loss: 0.6817\n",
      "Epoch 6/100, Validation Loss: 0.6653\n",
      "Epoch 7/100, Loss: 0.6798\n",
      "Epoch 7/100, Validation Loss: 0.6561\n",
      "Epoch 8/100, Loss: 0.6822\n",
      "Epoch 8/100, Validation Loss: 0.6591\n",
      "Epoch 9/100, Loss: 0.6764\n",
      "Epoch 9/100, Validation Loss: 0.6797\n",
      "Epoch 10/100, Loss: 0.6736\n",
      "Epoch 10/100, Validation Loss: 0.6452\n",
      "Epoch 11/100, Loss: 0.6748\n",
      "Epoch 11/100, Validation Loss: 0.6490\n",
      "Epoch 12/100, Loss: 0.6660\n",
      "Epoch 12/100, Validation Loss: 0.6461\n",
      "Epoch 13/100, Loss: 0.6724\n",
      "Epoch 13/100, Validation Loss: 0.6497\n",
      "Epoch 14/100, Loss: 0.6662\n",
      "Epoch 14/100, Validation Loss: 0.6437\n",
      "Epoch 15/100, Loss: 0.6686\n",
      "Epoch 15/100, Validation Loss: 0.6457\n",
      "Epoch 16/100, Loss: 0.6632\n",
      "Epoch 16/100, Validation Loss: 0.6402\n",
      "Epoch 17/100, Loss: 0.6639\n",
      "Epoch 17/100, Validation Loss: 0.6363\n",
      "Epoch 18/100, Loss: 0.6531\n",
      "Epoch 18/100, Validation Loss: 0.6326\n",
      "Epoch 19/100, Loss: 0.6562\n",
      "Epoch 19/100, Validation Loss: 0.6231\n",
      "Epoch 20/100, Loss: 0.6510\n",
      "Epoch 20/100, Validation Loss: 0.6300\n",
      "Epoch 21/100, Loss: 0.6488\n",
      "Epoch 21/100, Validation Loss: 0.6522\n",
      "Epoch 22/100, Loss: 0.6530\n",
      "Epoch 22/100, Validation Loss: 0.6321\n",
      "Epoch 23/100, Loss: 0.6483\n",
      "Epoch 23/100, Validation Loss: 0.6271\n",
      "Epoch 24/100, Loss: 0.6440\n",
      "Epoch 24/100, Validation Loss: 0.6359\n",
      "Epoch 25/100, Loss: 0.6391\n",
      "Epoch 25/100, Validation Loss: 0.6368\n",
      "Epoch 26/100, Loss: 0.6338\n",
      "Epoch 26/100, Validation Loss: 0.6248\n",
      "Epoch 27/100, Loss: 0.6378\n",
      "Epoch 27/100, Validation Loss: 0.6222\n",
      "Epoch 28/100, Loss: 0.6328\n",
      "Epoch 28/100, Validation Loss: 0.6269\n",
      "Epoch 29/100, Loss: 0.6320\n",
      "Epoch 29/100, Validation Loss: 0.6137\n",
      "Epoch 30/100, Loss: 0.6250\n",
      "Epoch 30/100, Validation Loss: 0.6414\n",
      "Epoch 31/100, Loss: 0.6381\n",
      "Epoch 31/100, Validation Loss: 0.6176\n",
      "Epoch 32/100, Loss: 0.6232\n",
      "Epoch 32/100, Validation Loss: 0.6146\n",
      "Epoch 33/100, Loss: 0.6290\n",
      "Epoch 33/100, Validation Loss: 0.6121\n",
      "Epoch 34/100, Loss: 0.6160\n",
      "Epoch 34/100, Validation Loss: 0.6086\n",
      "Epoch 35/100, Loss: 0.6230\n",
      "Epoch 35/100, Validation Loss: 0.6206\n",
      "Epoch 36/100, Loss: 0.6197\n",
      "Epoch 36/100, Validation Loss: 0.6099\n",
      "Epoch 37/100, Loss: 0.6122\n",
      "Epoch 37/100, Validation Loss: 0.6085\n",
      "Epoch 38/100, Loss: 0.6160\n",
      "Epoch 38/100, Validation Loss: 0.6082\n",
      "Epoch 39/100, Loss: 0.6125\n",
      "Epoch 39/100, Validation Loss: 0.6244\n",
      "Epoch 40/100, Loss: 0.6100\n",
      "Epoch 40/100, Validation Loss: 0.6487\n",
      "Epoch 41/100, Loss: 0.6139\n",
      "Epoch 41/100, Validation Loss: 0.6083\n",
      "Epoch 42/100, Loss: 0.6036\n",
      "Epoch 42/100, Validation Loss: 0.6098\n",
      "Epoch 43/100, Loss: 0.6056\n",
      "Epoch 43/100, Validation Loss: 0.6239\n",
      "Epoch 44/100, Loss: 0.5986\n",
      "Epoch 44/100, Validation Loss: 0.6082\n",
      "Epoch 45/100, Loss: 0.5885\n",
      "Epoch 45/100, Validation Loss: 0.6076\n",
      "Epoch 46/100, Loss: 0.5993\n",
      "Epoch 46/100, Validation Loss: 0.6128\n",
      "Epoch 47/100, Loss: 0.5895\n",
      "Epoch 47/100, Validation Loss: 0.6012\n",
      "Epoch 48/100, Loss: 0.5842\n",
      "Epoch 48/100, Validation Loss: 0.6010\n",
      "Epoch 49/100, Loss: 0.5930\n",
      "Epoch 49/100, Validation Loss: 0.6050\n",
      "Epoch 50/100, Loss: 0.5776\n",
      "Epoch 50/100, Validation Loss: 0.6036\n",
      "Epoch 51/100, Loss: 0.5884\n",
      "Epoch 51/100, Validation Loss: 0.5995\n",
      "Epoch 52/100, Loss: 0.5853\n",
      "Epoch 52/100, Validation Loss: 0.6020\n",
      "Epoch 53/100, Loss: 0.5919\n",
      "Epoch 53/100, Validation Loss: 0.6167\n",
      "Epoch 54/100, Loss: 0.5756\n",
      "Epoch 54/100, Validation Loss: 0.6013\n",
      "Epoch 55/100, Loss: 0.5711\n",
      "Epoch 55/100, Validation Loss: 0.6190\n",
      "Epoch 56/100, Loss: 0.5659\n",
      "Epoch 56/100, Validation Loss: 0.6125\n",
      "Epoch 57/100, Loss: 0.5742\n",
      "Epoch 57/100, Validation Loss: 0.5968\n",
      "Epoch 58/100, Loss: 0.5875\n",
      "Epoch 58/100, Validation Loss: 0.6015\n",
      "Epoch 59/100, Loss: 0.5631\n",
      "Epoch 59/100, Validation Loss: 0.6407\n",
      "Epoch 60/100, Loss: 0.5597\n",
      "Epoch 60/100, Validation Loss: 0.5928\n",
      "Epoch 61/100, Loss: 0.5795\n",
      "Epoch 61/100, Validation Loss: 0.6305\n",
      "Epoch 62/100, Loss: 0.5609\n",
      "Epoch 62/100, Validation Loss: 0.5968\n",
      "Epoch 63/100, Loss: 0.5556\n",
      "Epoch 63/100, Validation Loss: 0.5992\n",
      "Epoch 64/100, Loss: 0.5640\n",
      "Epoch 64/100, Validation Loss: 0.6144\n",
      "Epoch 65/100, Loss: 0.5495\n",
      "Epoch 65/100, Validation Loss: 0.6227\n",
      "Epoch 66/100, Loss: 0.5584\n",
      "Epoch 66/100, Validation Loss: 0.6107\n",
      "Epoch 67/100, Loss: 0.5594\n",
      "Epoch 67/100, Validation Loss: 0.6037\n",
      "Epoch 68/100, Loss: 0.5555\n",
      "Epoch 68/100, Validation Loss: 0.6229\n",
      "Epoch 69/100, Loss: 0.5526\n",
      "Epoch 69/100, Validation Loss: 0.5948\n",
      "Epoch 70/100, Loss: 0.5469\n",
      "Epoch 70/100, Validation Loss: 0.5952\n",
      "Early stopping triggered. Stopping training after epoch 70.\n",
      "Training stopped early after 70 epochs.\n"
     ]
    }
   ],
   "source": [
    "patience = 10\n",
    "best_val_loss = float('inf')\n",
    "patience_counter = 0\n",
    "early_stopping_triggered = False\n",
    "\n",
    "train_losses = []\n",
    "valid_losses = []\n",
    "\n",
    "for epoch in range(num_epochs):\n",
    "    model.train()\n",
    "    running_loss = 0.0\n",
    "    for images, labels in train_loader:\n",
    "        images = images.view(images.size(0), -1)\n",
    "        labels = labels.float().view(-1, 1)\n",
    "\n",
    "        outputs = model(images)\n",
    "        loss = criterion(outputs, labels)\n",
    "\n",
    "        optimizer.zero_grad()\n",
    "        loss.backward()\n",
    "        optimizer.step()\n",
    "\n",
    "        running_loss += loss.item() * images.size(0)\n",
    "\n",
    "    epoch_loss = running_loss / len(train_loader.dataset)\n",
    "    train_losses.append(epoch_loss)\n",
    "\n",
    "    print(f'Epoch {epoch + 1}/{num_epochs}, Loss: {epoch_loss:.4f}')\n",
    "\n",
    "    model.eval()\n",
    "    val_running_loss = 0.0\n",
    "    with torch.no_grad():\n",
    "        for images, labels in valid_loader:\n",
    "            images = images.view(images.size(0), -1)\n",
    "            labels = labels.float().view(-1, 1)\n",
    "            outputs = model(images)\n",
    "            loss = criterion(outputs, labels)\n",
    "            val_running_loss += loss.item() * images.size(0)\n",
    "\n",
    "    val_epoch_loss = val_running_loss / len(valid_loader.dataset)\n",
    "    valid_losses.append(val_epoch_loss)\n",
    "    print(f'Epoch {epoch + 1}/{num_epochs}, Validation Loss: {val_epoch_loss:.4f}')\n",
    "\n",
    "    if val_epoch_loss < best_val_loss:\n",
    "        best_val_loss = val_epoch_loss\n",
    "        patience_counter = 0\n",
    "        torch.save(model.state_dict(), 'best_model.pth')\n",
    "    else:\n",
    "        patience_counter += 1\n",
    "\n",
    "    if patience_counter >= patience:\n",
    "        print(f'Early stopping triggered. Stopping training after epoch {epoch + 1}.')\n",
    "        early_stopping_triggered = True\n",
    "        plot_epoch = epoch + 2\n",
    "        break\n",
    "\n",
    "if not early_stopping_triggered:\n",
    "    print(f'Finished training after {num_epochs} epochs.')\n",
    "else:\n",
    "    print(f'Training stopped early after {epoch + 1} epochs.')\n",
    "    torch.save(model.state_dict(), 'last_model.pth')"
   ]
  },
  {
   "cell_type": "code",
   "execution_count": 20,
   "metadata": {},
   "outputs": [],
   "source": [
    "import matplotlib.pyplot as plt"
   ]
  },
  {
   "cell_type": "code",
   "execution_count": 21,
   "metadata": {},
   "outputs": [
    {
     "data": {
      "image/png": "[encoded data removed]",
      "text/plain": [
       "<Figure size 640x480 with 1 Axes>"
      ]
     },
     "metadata": {},
     "output_type": "display_data"
    }
   ],
   "source": [
    "plt.plot(range(1, plot_epoch), train_losses, label='Train Loss')\n",
    "plt.plot(range(1, plot_epoch), valid_losses, label='Validation Loss')\n",
    "plt.xlabel('Epochs')\n",
    "plt.ylabel('Loss')\n",
    "plt.legend()\n",
    "plt.show()"
   ]
  },
  {
   "cell_type": "markdown",
   "metadata": {},
   "source": [
    "# Predict"
   ]
  },
  {
   "cell_type": "code",
   "execution_count": 22,
   "metadata": {},
   "outputs": [
    {
     "name": "stdout",
     "output_type": "stream",
     "text": [
      "Test Set Accuracy: 62.00%\n"
     ]
    }
   ],
   "source": [
    "model.eval()\n",
    "correct = 0\n",
    "total = 0\n",
    "\n",
    "with torch.no_grad():\n",
    "    for images, labels in test_loader:\n",
    "        images = images.view(images.size(0), -1)\n",
    "        labels = labels.float().view(-1, 1)\n",
    "\n",
    "        outputs = model(images)\n",
    "\n",
    "        predicted = (outputs > 0.5).float()\n",
    "\n",
    "        total += labels.size(0)\n",
    "        correct += (predicted == labels).sum().item()\n",
    "\n",
    "accuracy = correct / total\n",
    "print(f\"Test Set Accuracy: {accuracy * 100:.2f}%\")"
   ]
  },
  {
   "cell_type": "markdown",
   "metadata": {},
   "source": [
    "# Transfer Learning"
   ]
  },
  {
   "cell_type": "code",
   "execution_count": 23,
   "metadata": {},
   "outputs": [],
   "source": [
    "import os\n",
    "import random\n",
    "import numpy as np\n",
    "import torch\n",
    "import torch.nn as nn\n",
    "from PIL import Image\n",
    "from torch.utils.data import Dataset, DataLoader, random_split\n",
    "from torchvision import transforms"
   ]
  },
  {
   "cell_type": "code",
   "execution_count": 24,
   "metadata": {},
   "outputs": [],
   "source": [
    "def seed_everything(seed=5):\n",
    "    random.seed(seed)\n",
    "    np.random.seed(seed)\n",
    "\n",
    "    torch.manual_seed(seed)\n",
    "    if torch.cuda.is_available():\n",
    "        torch.cuda.manual_seed(seed)\n",
    "        torch.cuda.manual_seed_all(seed)\n",
    "\n",
    "    torch.backends.cudnn.deterministic = True\n",
    "    torch.backends.cudnn.benchmark = False\n",
    "\n",
    "seed_everything()"
   ]
  },
  {
   "cell_type": "code",
   "execution_count": 25,
   "metadata": {},
   "outputs": [],
   "source": [
    "cat_image_path = \"../data/cifar10_images/cat\"\n",
    "dog_image_path = \"../data/cifar10_images/dog\""
   ]
  },
  {
   "cell_type": "code",
   "execution_count": 26,
   "metadata": {},
   "outputs": [],
   "source": [
    "class CustomDataset(Dataset):\n",
    "    def __init__(self, dir_paths, transform=None):\n",
    "        self.images = []\n",
    "        self.labels = []\n",
    "        self.transform = transform\n",
    "\n",
    "        for dir_path in dir_paths:\n",
    "            label = os.path.basename(dir_path)\n",
    "            for file_name in os.listdir(dir_path):\n",
    "                image_path = os.path.join(dir_path, file_name)\n",
    "                image = Image.open(image_path).convert('RGB')\n",
    "                if self.transform:\n",
    "                    image = self.transform(image)\n",
    "                self.images.append(image)\n",
    "                self.labels.append(label)\n",
    "\n",
    "        self.label_to_index = {'cat': 0, 'dog': 1}\n",
    "        self.labels = [self.label_to_index[label] for label in self.labels]\n",
    "\n",
    "    def __len__(self):\n",
    "        return len(self.images)\n",
    "\n",
    "    def __getitem__(self, idx):\n",
    "        image = self.images[idx]\n",
    "        label = self.labels[idx]\n",
    "        return image, label"
   ]
  },
  {
   "cell_type": "code",
   "execution_count": 27,
   "metadata": {},
   "outputs": [],
   "source": [
    "train_transform = transforms.Compose([\n",
    "    transforms.RandomHorizontalFlip(),\n",
    "    transforms.RandomVerticalFlip(),\n",
    "    transforms.RandomRotation(45),\n",
    "    transforms.ColorJitter(brightness=0.2, contrast=0.2, saturation=0.2, hue=0.2),\n",
    "    transforms.RandomResizedCrop(32, scale=(0.8, 1.0)),\n",
    "    transforms.Resize((32, 32)),\n",
    "    transforms.ToTensor(),\n",
    "])\n",
    "\n",
    "test_transform = transforms.Compose([\n",
    "    transforms.Resize((32, 32)),\n",
    "    transforms.ToTensor(),\n",
    "])"
   ]
  },
  {
   "cell_type": "code",
   "execution_count": 28,
   "metadata": {},
   "outputs": [],
   "source": [
    "input_size = 32 * 32 * 3\n",
    "hidden_size = 128"
   ]
  },
  {
   "cell_type": "code",
   "execution_count": 29,
   "metadata": {},
   "outputs": [
    {
     "name": "stdout",
     "output_type": "stream",
     "text": [
      "number of dataset: 1000\n"
     ]
    }
   ],
   "source": [
    "dataset = CustomDataset(dir_paths=[cat_image_path, dog_image_path], transform=test_transform)\n",
    "\n",
    "print(f\"number of dataset: {len(dataset)}\")"
   ]
  },
  {
   "cell_type": "code",
   "execution_count": 30,
   "metadata": {},
   "outputs": [
    {
     "name": "stdout",
     "output_type": "stream",
     "text": [
      "number of train dataset: 700\n",
      "number of valid dataset: 150\n",
      "number of test dataset: 150\n"
     ]
    }
   ],
   "source": [
    "train_size = int(0.7 * len(dataset))\n",
    "valid_size = int(0.15 * len(dataset))\n",
    "test_size = len(dataset) - train_size - valid_size\n",
    "train_dataset, valid_dataset, test_dataset = random_split(dataset, [train_size, valid_size, test_size])\n",
    "\n",
    "print(f\"number of train dataset: {len(train_dataset)}\")\n",
    "print(f\"number of valid dataset: {len(valid_dataset)}\")\n",
    "print(f\"number of test dataset: {len(test_dataset)}\")"
   ]
  },
  {
   "cell_type": "code",
   "execution_count": 31,
   "metadata": {},
   "outputs": [],
   "source": [
    "train_dataset.dataset.transform = train_transform"
   ]
  },
  {
   "cell_type": "code",
   "execution_count": 32,
   "metadata": {},
   "outputs": [
    {
     "name": "stdout",
     "output_type": "stream",
     "text": [
      "data shape: torch.Size([16, 3, 32, 32])\n",
      "label shape: torch.Size([16])\n"
     ]
    }
   ],
   "source": [
    "batch_size = 16\n",
    "\n",
    "train_loader = DataLoader(train_dataset, batch_size=batch_size, shuffle=True)\n",
    "valid_loader = DataLoader(valid_dataset, batch_size=batch_size, shuffle=False)\n",
    "test_loader = DataLoader(test_dataset, batch_size=batch_size, shuffle=False)\n",
    "\n",
    "for image, label in train_loader:\n",
    "    print(f\"data shape: {image.size()}\")\n",
    "    print(f\"label shape: {label.size()}\")\n",
    "    break"
   ]
  },
  {
   "cell_type": "code",
   "execution_count": 33,
   "metadata": {},
   "outputs": [],
   "source": [
    "class SimpleNN(nn.Module):\n",
    "    def __init__(self, input_size, hidden_size, dropout_prob=0.5):\n",
    "        super(SimpleNN, self).__init__()\n",
    "        self.fc1 = nn.Linear(input_size, hidden_size)\n",
    "        self.fc2 = nn.Linear(hidden_size, 1)\n",
    "        self.relu = nn.ReLU()\n",
    "        self.sigmoid = nn.Sigmoid()\n",
    "        self.dropout = nn.Dropout(dropout_prob)\n",
    "\n",
    "    def forward(self, x):\n",
    "        x = self.fc1(x)\n",
    "        x = self.relu(x)\n",
    "        x = self.dropout(x)\n",
    "        x = self.fc2(x)\n",
    "        x = self.sigmoid(x)\n",
    "\n",
    "        return x\n",
    "model = SimpleNN(input_size=input_size, hidden_size=hidden_size)"
   ]
  },
  {
   "cell_type": "code",
   "execution_count": 34,
   "metadata": {},
   "outputs": [
    {
     "data": {
      "text/plain": [
       "<All keys matched successfully>"
      ]
     },
     "execution_count": 34,
     "metadata": {},
     "output_type": "execute_result"
    }
   ],
   "source": [
    "model.load_state_dict(torch.load('best_model.pth', weights_only=True))"
   ]
  },
  {
   "cell_type": "code",
   "execution_count": 35,
   "metadata": {},
   "outputs": [
    {
     "name": "stdout",
     "output_type": "stream",
     "text": [
      "Test Set Accuracy: 62.67%\n"
     ]
    }
   ],
   "source": [
    "model.eval()\n",
    "\n",
    "correct = 0\n",
    "total = 0\n",
    "\n",
    "with torch.no_grad():\n",
    "    for images, labels in test_loader:\n",
    "        images = images.view(images.size(0), -1)\n",
    "        labels = labels.float().view(-1, 1)\n",
    "\n",
    "        outputs = model(images)\n",
    "\n",
    "        predicted = (outputs > 0.5).float()\n",
    "\n",
    "        total += labels.size(0)\n",
    "        correct += (predicted == labels).sum().item()\n",
    "\n",
    "accuracy = correct / total\n",
    "print(f\"Test Set Accuracy: {accuracy * 100:.2f}%\")"
   ]
  },
  {
   "cell_type": "code",
   "execution_count": null,
   "metadata": {},
   "outputs": [],
   "source": []
  }
 ],
 "metadata": {
  "kernelspec": {
   "display_name": "Python 3",
   "language": "python",
   "name": "python3"
  },
  "language_info": {
   "codemirror_mode": {
    "name": "ipython",
    "version": 3
   },
   "file_extension": ".py",
   "mimetype": "text/x-python",
   "name": "python",
   "nbconvert_exporter": "python",
   "pygments_lexer": "ipython3",
   "version": "3.10.12"
  }
 },
 "nbformat": 4,
 "nbformat_minor": 2
}
