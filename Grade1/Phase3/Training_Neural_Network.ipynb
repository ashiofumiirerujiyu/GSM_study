{
 "cells": [
  {
   "cell_type": "markdown",
   "metadata": {},
   "source": [
    "# Seed"
   ]
  },
  {
   "cell_type": "code",
   "execution_count": 1,
   "metadata": {},
   "outputs": [],
   "source": [
    "import random\n",
    "import torch\n",
    "import numpy as np"
   ]
  },
  {
   "cell_type": "code",
   "execution_count": 2,
   "metadata": {},
   "outputs": [],
   "source": [
    "def seed_everything(seed=1):\n",
    "    random.seed(seed)\n",
    "    np.random.seed(seed)\n",
    "\n",
    "    torch.manual_seed(seed)\n",
    "    if torch.cuda.is_available():\n",
    "        torch.cuda.manual_seed(seed)\n",
    "        torch.cuda.manual_seed_all(seed)\n",
    "\n",
    "    torch.backends.cudnn.deterministic = True\n",
    "    torch.backends.cudnn.benchmark = False\n",
    "\n",
    "seed_everything()"
   ]
  },
  {
   "cell_type": "markdown",
   "metadata": {},
   "source": [
    "# DataSet"
   ]
  },
  {
   "cell_type": "code",
   "execution_count": 3,
   "metadata": {},
   "outputs": [],
   "source": [
    "import os\n",
    "from PIL import Image\n",
    "from torch.utils.data import Dataset, DataLoader, random_split\n",
    "from torchvision import transforms"
   ]
  },
  {
   "cell_type": "code",
   "execution_count": 4,
   "metadata": {},
   "outputs": [],
   "source": [
    "cat_image_path = \"../data/cifar10_images/cat\"\n",
    "dog_image_path = \"../data/cifar10_images/dog\""
   ]
  },
  {
   "cell_type": "code",
   "execution_count": 5,
   "metadata": {},
   "outputs": [],
   "source": [
    "class CustomDataset(Dataset):\n",
    "    def __init__(self, dir_paths, transform=None):\n",
    "        self.images = []\n",
    "        self.labels = []\n",
    "        self.transform = transform\n",
    "\n",
    "        for dir_path in dir_paths:\n",
    "            label = os.path.basename(dir_path)\n",
    "            for file_name in os.listdir(dir_path):\n",
    "                image_path = os.path.join(dir_path, file_name)\n",
    "                image = Image.open(image_path).convert('RGB')\n",
    "                if self.transform:\n",
    "                    image = self.transform(image)\n",
    "                self.images.append(image)\n",
    "                self.labels.append(label)\n",
    "\n",
    "        self.label_to_index = {'cat': 0, 'dog': 1}\n",
    "        self.labels = [self.label_to_index[label] for label in self.labels]\n",
    "\n",
    "    def __len__(self):\n",
    "        return len(self.images)\n",
    "\n",
    "    def __getitem__(self, idx):\n",
    "        image = self.images[idx]\n",
    "        label = self.labels[idx]\n",
    "        return image, label"
   ]
  },
  {
   "cell_type": "code",
   "execution_count": 6,
   "metadata": {},
   "outputs": [],
   "source": [
    "transform = transforms.Compose([\n",
    "    transforms.Resize((32, 32)),\n",
    "    transforms.ToTensor(),\n",
    "])"
   ]
  },
  {
   "cell_type": "code",
   "execution_count": 7,
   "metadata": {},
   "outputs": [
    {
     "name": "stdout",
     "output_type": "stream",
     "text": [
      "number of dataset: 1000\n"
     ]
    }
   ],
   "source": [
    "dataset = CustomDataset(dir_paths=[cat_image_path, dog_image_path], transform=transform)\n",
    "\n",
    "print(f\"number of dataset: {len(dataset)}\")"
   ]
  },
  {
   "cell_type": "code",
   "execution_count": 8,
   "metadata": {},
   "outputs": [
    {
     "name": "stdout",
     "output_type": "stream",
     "text": [
      "number of train dataset: 700\n",
      "number of valid dataset: 150\n",
      "number of test dataset: 150\n"
     ]
    }
   ],
   "source": [
    "train_size = int(0.7 * len(dataset))\n",
    "valid_size = int(0.15 * len(dataset))\n",
    "test_size = len(dataset) - train_size - valid_size\n",
    "train_dataset, valid_dataset, test_dataset = random_split(dataset, [train_size, valid_size, test_size])\n",
    "\n",
    "print(f\"number of train dataset: {len(train_dataset)}\")\n",
    "print(f\"number of valid dataset: {len(valid_dataset)}\")\n",
    "print(f\"number of test dataset: {len(test_dataset)}\")"
   ]
  },
  {
   "cell_type": "code",
   "execution_count": 9,
   "metadata": {},
   "outputs": [
    {
     "name": "stdout",
     "output_type": "stream",
     "text": [
      "data shape: torch.Size([16, 3, 32, 32])\n",
      "label shape: torch.Size([16])\n"
     ]
    }
   ],
   "source": [
    "batch_size = 16\n",
    "train_loader = DataLoader(train_dataset, batch_size=batch_size, shuffle=True)\n",
    "valid_loader = DataLoader(valid_dataset, batch_size=batch_size, shuffle=False)\n",
    "test_loader = DataLoader(test_dataset, batch_size=batch_size, shuffle=False)\n",
    "\n",
    "for image, label in train_loader:\n",
    "    print(f\"data shape: {image.size()}\")\n",
    "    print(f\"label shape: {label.size()}\")\n",
    "    break"
   ]
  },
  {
   "cell_type": "markdown",
   "metadata": {},
   "source": [
    "# HyperParameter"
   ]
  },
  {
   "cell_type": "code",
   "execution_count": 10,
   "metadata": {},
   "outputs": [],
   "source": [
    "input_size = 32 * 32 * 3\n",
    "hidden_size = 128\n",
    "learning_rate = 0.0001\n",
    "num_epochs = 100"
   ]
  },
  {
   "cell_type": "markdown",
   "metadata": {},
   "source": [
    "# Weight Initalize"
   ]
  },
  {
   "cell_type": "code",
   "execution_count": 11,
   "metadata": {},
   "outputs": [],
   "source": [
    "import torch.nn as nn"
   ]
  },
  {
   "cell_type": "code",
   "execution_count": 12,
   "metadata": {},
   "outputs": [],
   "source": [
    "def weights_init(m):\n",
    "    if isinstance(m, nn.Linear):\n",
    "        nn.init.kaiming_normal_(m.weight)\n",
    "        if m.bias is not None:\n",
    "            nn.init.zeros_(m.bias)"
   ]
  },
  {
   "cell_type": "markdown",
   "metadata": {},
   "source": [
    "# Model"
   ]
  },
  {
   "cell_type": "code",
   "execution_count": 13,
   "metadata": {},
   "outputs": [],
   "source": [
    "class SimpleNN(nn.Module):\n",
    "    def __init__(self, input_size, hidden_size):\n",
    "        super(SimpleNN, self).__init__()\n",
    "        self.fc1 = nn.Linear(input_size, hidden_size)\n",
    "        self.fc2 = nn.Linear(hidden_size, 1)\n",
    "        self.relu = nn.ReLU()\n",
    "        self.sigmoid = nn.Sigmoid()\n",
    "\n",
    "    def forward(self, x):\n",
    "        x = self.fc1(x)\n",
    "        x = self.relu(x)\n",
    "        x = self.fc2(x)\n",
    "        x = self.sigmoid(x)\n",
    "\n",
    "        return x\n",
    "\n",
    "model = SimpleNN(input_size=input_size, hidden_size=hidden_size)"
   ]
  },
  {
   "cell_type": "code",
   "execution_count": 14,
   "metadata": {},
   "outputs": [
    {
     "name": "stdout",
     "output_type": "stream",
     "text": [
      "fc1.weight: 393216 parameters\n",
      "fc1.bias: 128 parameters\n",
      "fc2.weight: 128 parameters\n",
      "fc2.bias: 1 parameters\n",
      "Total parameters: 393473\n"
     ]
    }
   ],
   "source": [
    "def count_parameters(model):\n",
    "    total_params = sum(p.numel() for p in model.parameters())\n",
    "\n",
    "    return total_params\n",
    "\n",
    "def print_model_parameters(model):\n",
    "    for name, param in model.named_parameters():\n",
    "        print(f\"{name}: {param.numel()} parameters\")\n",
    "    print(f\"Total parameters: {count_parameters(model)}\")\n",
    "\n",
    "print_model_parameters(model)"
   ]
  },
  {
   "cell_type": "markdown",
   "metadata": {},
   "source": [
    "# Loss"
   ]
  },
  {
   "cell_type": "code",
   "execution_count": 15,
   "metadata": {},
   "outputs": [],
   "source": [
    "criterion = nn.BCELoss()"
   ]
  },
  {
   "cell_type": "markdown",
   "metadata": {},
   "source": [
    "# Optimizer"
   ]
  },
  {
   "cell_type": "code",
   "execution_count": 16,
   "metadata": {},
   "outputs": [],
   "source": [
    "import torch.optim as optim"
   ]
  },
  {
   "cell_type": "code",
   "execution_count": 17,
   "metadata": {},
   "outputs": [],
   "source": [
    "optimizer = optim.SGD(model.parameters(), lr=learning_rate)"
   ]
  },
  {
   "cell_type": "markdown",
   "metadata": {},
   "source": [
    "# Train"
   ]
  },
  {
   "cell_type": "code",
   "execution_count": 18,
   "metadata": {},
   "outputs": [
    {
     "name": "stdout",
     "output_type": "stream",
     "text": [
      "Epoch 1/100, Loss: 0.6918\n",
      "Epoch 1/100, Validation Loss: 0.6924\n",
      "Epoch 2/100, Loss: 0.6913\n",
      "Epoch 2/100, Validation Loss: 0.6920\n",
      "Epoch 3/100, Loss: 0.6909\n",
      "Epoch 3/100, Validation Loss: 0.6916\n",
      "Epoch 4/100, Loss: 0.6905\n",
      "Epoch 4/100, Validation Loss: 0.6913\n",
      "Epoch 5/100, Loss: 0.6902\n",
      "Epoch 5/100, Validation Loss: 0.6910\n",
      "Epoch 6/100, Loss: 0.6899\n",
      "Epoch 6/100, Validation Loss: 0.6908\n",
      "Epoch 7/100, Loss: 0.6897\n",
      "Epoch 7/100, Validation Loss: 0.6905\n",
      "Epoch 8/100, Loss: 0.6894\n",
      "Epoch 8/100, Validation Loss: 0.6903\n",
      "Epoch 9/100, Loss: 0.6892\n",
      "Epoch 9/100, Validation Loss: 0.6901\n",
      "Epoch 10/100, Loss: 0.6889\n",
      "Epoch 10/100, Validation Loss: 0.6899\n",
      "Epoch 11/100, Loss: 0.6887\n",
      "Epoch 11/100, Validation Loss: 0.6897\n",
      "Epoch 12/100, Loss: 0.6885\n",
      "Epoch 12/100, Validation Loss: 0.6895\n",
      "Epoch 13/100, Loss: 0.6883\n",
      "Epoch 13/100, Validation Loss: 0.6894\n",
      "Epoch 14/100, Loss: 0.6881\n",
      "Epoch 14/100, Validation Loss: 0.6892\n",
      "Epoch 15/100, Loss: 0.6880\n",
      "Epoch 15/100, Validation Loss: 0.6890\n",
      "Epoch 16/100, Loss: 0.6877\n",
      "Epoch 16/100, Validation Loss: 0.6888\n",
      "Epoch 17/100, Loss: 0.6875\n",
      "Epoch 17/100, Validation Loss: 0.6887\n",
      "Epoch 18/100, Loss: 0.6874\n",
      "Epoch 18/100, Validation Loss: 0.6885\n",
      "Epoch 19/100, Loss: 0.6872\n",
      "Epoch 19/100, Validation Loss: 0.6884\n",
      "Epoch 20/100, Loss: 0.6870\n",
      "Epoch 20/100, Validation Loss: 0.6882\n",
      "Epoch 21/100, Loss: 0.6868\n",
      "Epoch 21/100, Validation Loss: 0.6881\n",
      "Epoch 22/100, Loss: 0.6867\n",
      "Epoch 22/100, Validation Loss: 0.6879\n",
      "Epoch 23/100, Loss: 0.6865\n",
      "Epoch 23/100, Validation Loss: 0.6878\n",
      "Epoch 24/100, Loss: 0.6863\n",
      "Epoch 24/100, Validation Loss: 0.6876\n",
      "Epoch 25/100, Loss: 0.6862\n",
      "Epoch 25/100, Validation Loss: 0.6875\n",
      "Epoch 26/100, Loss: 0.6860\n",
      "Epoch 26/100, Validation Loss: 0.6874\n",
      "Epoch 27/100, Loss: 0.6859\n",
      "Epoch 27/100, Validation Loss: 0.6872\n",
      "Epoch 28/100, Loss: 0.6857\n",
      "Epoch 28/100, Validation Loss: 0.6871\n",
      "Epoch 29/100, Loss: 0.6856\n",
      "Epoch 29/100, Validation Loss: 0.6869\n",
      "Epoch 30/100, Loss: 0.6854\n",
      "Epoch 30/100, Validation Loss: 0.6868\n",
      "Epoch 31/100, Loss: 0.6853\n",
      "Epoch 31/100, Validation Loss: 0.6867\n",
      "Epoch 32/100, Loss: 0.6851\n",
      "Epoch 32/100, Validation Loss: 0.6866\n",
      "Epoch 33/100, Loss: 0.6850\n",
      "Epoch 33/100, Validation Loss: 0.6864\n",
      "Epoch 34/100, Loss: 0.6849\n",
      "Epoch 34/100, Validation Loss: 0.6863\n",
      "Epoch 35/100, Loss: 0.6847\n",
      "Epoch 35/100, Validation Loss: 0.6862\n",
      "Epoch 36/100, Loss: 0.6846\n",
      "Epoch 36/100, Validation Loss: 0.6861\n",
      "Epoch 37/100, Loss: 0.6845\n",
      "Epoch 37/100, Validation Loss: 0.6859\n",
      "Epoch 38/100, Loss: 0.6843\n",
      "Epoch 38/100, Validation Loss: 0.6858\n",
      "Epoch 39/100, Loss: 0.6842\n",
      "Epoch 39/100, Validation Loss: 0.6857\n",
      "Epoch 40/100, Loss: 0.6841\n",
      "Epoch 40/100, Validation Loss: 0.6856\n",
      "Epoch 41/100, Loss: 0.6840\n",
      "Epoch 41/100, Validation Loss: 0.6855\n",
      "Epoch 42/100, Loss: 0.6838\n",
      "Epoch 42/100, Validation Loss: 0.6853\n",
      "Epoch 43/100, Loss: 0.6837\n",
      "Epoch 43/100, Validation Loss: 0.6852\n",
      "Epoch 44/100, Loss: 0.6836\n",
      "Epoch 44/100, Validation Loss: 0.6851\n",
      "Epoch 45/100, Loss: 0.6834\n",
      "Epoch 45/100, Validation Loss: 0.6850\n",
      "Epoch 46/100, Loss: 0.6833\n",
      "Epoch 46/100, Validation Loss: 0.6849\n",
      "Epoch 47/100, Loss: 0.6832\n",
      "Epoch 47/100, Validation Loss: 0.6848\n",
      "Epoch 48/100, Loss: 0.6831\n",
      "Epoch 48/100, Validation Loss: 0.6846\n",
      "Epoch 49/100, Loss: 0.6830\n",
      "Epoch 49/100, Validation Loss: 0.6845\n",
      "Epoch 50/100, Loss: 0.6828\n",
      "Epoch 50/100, Validation Loss: 0.6844\n",
      "Epoch 51/100, Loss: 0.6827\n",
      "Epoch 51/100, Validation Loss: 0.6843\n",
      "Epoch 52/100, Loss: 0.6826\n",
      "Epoch 52/100, Validation Loss: 0.6842\n",
      "Epoch 53/100, Loss: 0.6825\n",
      "Epoch 53/100, Validation Loss: 0.6841\n",
      "Epoch 54/100, Loss: 0.6823\n",
      "Epoch 54/100, Validation Loss: 0.6839\n",
      "Epoch 55/100, Loss: 0.6822\n",
      "Epoch 55/100, Validation Loss: 0.6838\n",
      "Epoch 56/100, Loss: 0.6821\n",
      "Epoch 56/100, Validation Loss: 0.6837\n",
      "Epoch 57/100, Loss: 0.6820\n",
      "Epoch 57/100, Validation Loss: 0.6836\n",
      "Epoch 58/100, Loss: 0.6818\n",
      "Epoch 58/100, Validation Loss: 0.6835\n",
      "Epoch 59/100, Loss: 0.6818\n",
      "Epoch 59/100, Validation Loss: 0.6834\n",
      "Epoch 60/100, Loss: 0.6816\n",
      "Epoch 60/100, Validation Loss: 0.6833\n",
      "Epoch 61/100, Loss: 0.6815\n",
      "Epoch 61/100, Validation Loss: 0.6832\n",
      "Epoch 62/100, Loss: 0.6814\n",
      "Epoch 62/100, Validation Loss: 0.6831\n",
      "Epoch 63/100, Loss: 0.6813\n",
      "Epoch 63/100, Validation Loss: 0.6830\n",
      "Epoch 64/100, Loss: 0.6812\n",
      "Epoch 64/100, Validation Loss: 0.6828\n",
      "Epoch 65/100, Loss: 0.6811\n",
      "Epoch 65/100, Validation Loss: 0.6827\n",
      "Epoch 66/100, Loss: 0.6810\n",
      "Epoch 66/100, Validation Loss: 0.6826\n",
      "Epoch 67/100, Loss: 0.6808\n",
      "Epoch 67/100, Validation Loss: 0.6825\n",
      "Epoch 68/100, Loss: 0.6808\n",
      "Epoch 68/100, Validation Loss: 0.6824\n",
      "Epoch 69/100, Loss: 0.6807\n",
      "Epoch 69/100, Validation Loss: 0.6823\n",
      "Epoch 70/100, Loss: 0.6805\n",
      "Epoch 70/100, Validation Loss: 0.6822\n",
      "Epoch 71/100, Loss: 0.6804\n",
      "Epoch 71/100, Validation Loss: 0.6821\n",
      "Epoch 72/100, Loss: 0.6803\n",
      "Epoch 72/100, Validation Loss: 0.6820\n",
      "Epoch 73/100, Loss: 0.6802\n",
      "Epoch 73/100, Validation Loss: 0.6819\n",
      "Epoch 74/100, Loss: 0.6801\n",
      "Epoch 74/100, Validation Loss: 0.6818\n",
      "Epoch 75/100, Loss: 0.6800\n",
      "Epoch 75/100, Validation Loss: 0.6818\n",
      "Epoch 76/100, Loss: 0.6799\n",
      "Epoch 76/100, Validation Loss: 0.6817\n",
      "Epoch 77/100, Loss: 0.6798\n",
      "Epoch 77/100, Validation Loss: 0.6816\n",
      "Epoch 78/100, Loss: 0.6797\n",
      "Epoch 78/100, Validation Loss: 0.6815\n",
      "Epoch 79/100, Loss: 0.6796\n",
      "Epoch 79/100, Validation Loss: 0.6814\n",
      "Epoch 80/100, Loss: 0.6795\n",
      "Epoch 80/100, Validation Loss: 0.6813\n",
      "Epoch 81/100, Loss: 0.6794\n",
      "Epoch 81/100, Validation Loss: 0.6812\n",
      "Epoch 82/100, Loss: 0.6793\n",
      "Epoch 82/100, Validation Loss: 0.6811\n",
      "Epoch 83/100, Loss: 0.6792\n",
      "Epoch 83/100, Validation Loss: 0.6811\n",
      "Epoch 84/100, Loss: 0.6791\n",
      "Epoch 84/100, Validation Loss: 0.6810\n",
      "Epoch 85/100, Loss: 0.6790\n",
      "Epoch 85/100, Validation Loss: 0.6809\n",
      "Epoch 86/100, Loss: 0.6789\n",
      "Epoch 86/100, Validation Loss: 0.6808\n",
      "Epoch 87/100, Loss: 0.6788\n",
      "Epoch 87/100, Validation Loss: 0.6807\n",
      "Epoch 88/100, Loss: 0.6787\n",
      "Epoch 88/100, Validation Loss: 0.6806\n",
      "Epoch 89/100, Loss: 0.6786\n",
      "Epoch 89/100, Validation Loss: 0.6806\n",
      "Epoch 90/100, Loss: 0.6785\n",
      "Epoch 90/100, Validation Loss: 0.6805\n",
      "Epoch 91/100, Loss: 0.6784\n",
      "Epoch 91/100, Validation Loss: 0.6804\n",
      "Epoch 92/100, Loss: 0.6783\n",
      "Epoch 92/100, Validation Loss: 0.6803\n",
      "Epoch 93/100, Loss: 0.6783\n",
      "Epoch 93/100, Validation Loss: 0.6802\n",
      "Epoch 94/100, Loss: 0.6781\n",
      "Epoch 94/100, Validation Loss: 0.6802\n",
      "Epoch 95/100, Loss: 0.6780\n",
      "Epoch 95/100, Validation Loss: 0.6801\n",
      "Epoch 96/100, Loss: 0.6780\n",
      "Epoch 96/100, Validation Loss: 0.6800\n",
      "Epoch 97/100, Loss: 0.6779\n",
      "Epoch 97/100, Validation Loss: 0.6799\n",
      "Epoch 98/100, Loss: 0.6778\n",
      "Epoch 98/100, Validation Loss: 0.6799\n",
      "Epoch 99/100, Loss: 0.6777\n",
      "Epoch 99/100, Validation Loss: 0.6798\n",
      "Epoch 100/100, Loss: 0.6776\n",
      "Epoch 100/100, Validation Loss: 0.6797\n"
     ]
    }
   ],
   "source": [
    "train_losses = []\n",
    "valid_losses = []\n",
    "\n",
    "for epoch in range(num_epochs):\n",
    "    model.train()\n",
    "    running_loss = 0.0\n",
    "    for images, labels in train_loader:\n",
    "        images = images.view(images.size(0), -1)\n",
    "        labels = labels.float().view(-1, 1)\n",
    "\n",
    "        outputs = model(images)\n",
    "        loss = criterion(outputs, labels)\n",
    "\n",
    "        optimizer.zero_grad()\n",
    "        loss.backward()\n",
    "        optimizer.step()\n",
    "\n",
    "        running_loss += loss.item() * images.size(0)\n",
    "\n",
    "    epoch_loss = running_loss / len(train_loader.dataset)\n",
    "    train_losses.append(epoch_loss)\n",
    "\n",
    "    print(f'Epoch {epoch + 1}/{num_epochs}, Loss: {epoch_loss:.4f}')\n",
    "\n",
    "    model.eval()\n",
    "    val_running_loss = 0.0\n",
    "    with torch.no_grad():\n",
    "        for images, labels in valid_loader:\n",
    "            images = images.view(images.size(0), -1)\n",
    "            labels = labels.float().view(-1, 1)\n",
    "            outputs = model(images)\n",
    "            loss = criterion(outputs, labels)\n",
    "            val_running_loss += loss.item() * images.size(0)\n",
    "\n",
    "    val_epoch_loss = val_running_loss / len(valid_loader.dataset)\n",
    "    valid_losses.append(val_epoch_loss)\n",
    "    print(f'Epoch {epoch + 1}/{num_epochs}, Validation Loss: {val_epoch_loss:.4f}')"
   ]
  },
  {
   "cell_type": "code",
   "execution_count": 19,
   "metadata": {},
   "outputs": [],
   "source": [
    "import matplotlib.pyplot as plt"
   ]
  },
  {
   "cell_type": "code",
   "execution_count": 20,
   "metadata": {},
   "outputs": [
    {
     "data": {
      "image/png": "[encoded data removed]",
      "text/plain": [
       "<Figure size 640x480 with 1 Axes>"
      ]
     },
     "metadata": {},
     "output_type": "display_data"
    }
   ],
   "source": [
    "plt.plot(range(1, num_epochs + 1), train_losses, label='Train Loss')\n",
    "plt.plot(range(1, num_epochs + 1), valid_losses, label='Validation Loss')\n",
    "plt.xlabel('Epochs')\n",
    "plt.ylabel('Loss')\n",
    "plt.legend()\n",
    "plt.show()"
   ]
  },
  {
   "cell_type": "markdown",
   "metadata": {},
   "source": [
    "# Predict"
   ]
  },
  {
   "cell_type": "code",
   "execution_count": 21,
   "metadata": {},
   "outputs": [
    {
     "name": "stdout",
     "output_type": "stream",
     "text": [
      "Test Set Accuracy: 51.33%\n"
     ]
    }
   ],
   "source": [
    "model.eval()\n",
    "correct = 0\n",
    "total = 0\n",
    "\n",
    "with torch.no_grad():\n",
    "    for images, labels in test_loader:\n",
    "        images = images.view(images.size(0), -1)\n",
    "        labels = labels.float().view(-1, 1)\n",
    "\n",
    "        outputs = model(images)\n",
    "\n",
    "        predicted = (outputs > 0.5).float()\n",
    "\n",
    "        total += labels.size(0)\n",
    "        correct += (predicted == labels).sum().item()\n",
    "\n",
    "accuracy = correct / total\n",
    "print(f\"Test Set Accuracy: {accuracy * 100:.2f}%\")"
   ]
  },
  {
   "cell_type": "code",
   "execution_count": null,
   "metadata": {},
   "outputs": [],
   "source": []
  }
 ],
 "metadata": {
  "kernelspec": {
   "display_name": "Python 3",
   "language": "python",
   "name": "python3"
  },
  "language_info": {
   "codemirror_mode": {
    "name": "ipython",
    "version": 3
   },
   "file_extension": ".py",
   "mimetype": "text/x-python",
   "name": "python",
   "nbconvert_exporter": "python",
   "pygments_lexer": "ipython3",
   "version": "3.10.12"
  }
 },
 "nbformat": 4,
 "nbformat_minor": 2
}
