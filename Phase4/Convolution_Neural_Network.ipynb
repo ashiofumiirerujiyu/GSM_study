{
 "cells": [
  {
   "cell_type": "markdown",
   "metadata": {},
   "source": [
    "# Seed"
   ]
  },
  {
   "cell_type": "code",
   "execution_count": 1,
   "metadata": {},
   "outputs": [],
   "source": [
    "import random\n",
    "import torch\n",
    "import numpy as np"
   ]
  },
  {
   "cell_type": "code",
   "execution_count": 2,
   "metadata": {},
   "outputs": [],
   "source": [
    "def seed_everything(seed=5):\n",
    "    random.seed(seed)\n",
    "    np.random.seed(seed)\n",
    "\n",
    "    torch.manual_seed(seed)\n",
    "    if torch.cuda.is_available():\n",
    "        torch.cuda.manual_seed(seed)\n",
    "        torch.cuda.manual_seed_all(seed)\n",
    "\n",
    "    torch.backends.cudnn.deterministic = True\n",
    "    torch.backends.cudnn.benchmark = False\n",
    "\n",
    "seed_everything()"
   ]
  },
  {
   "cell_type": "markdown",
   "metadata": {},
   "source": [
    "# DataSet"
   ]
  },
  {
   "cell_type": "code",
   "execution_count": 3,
   "metadata": {},
   "outputs": [],
   "source": [
    "import os\n",
    "from PIL import Image\n",
    "from torch.utils.data import Dataset, DataLoader, random_split\n",
    "from torchvision import transforms"
   ]
  },
  {
   "cell_type": "code",
   "execution_count": 4,
   "metadata": {},
   "outputs": [],
   "source": [
    "cat_image_path = \"../data/cifar10_images/cat\"\n",
    "dog_image_path = \"../data/cifar10_images/dog\""
   ]
  },
  {
   "cell_type": "code",
   "execution_count": 5,
   "metadata": {},
   "outputs": [],
   "source": [
    "class CustomDataset(Dataset):\n",
    "    def __init__(self, dir_paths, transform=None):\n",
    "        self.images = []\n",
    "        self.labels = []\n",
    "        self.transform = transform\n",
    "\n",
    "        for dir_path in dir_paths:\n",
    "            label = os.path.basename(dir_path)\n",
    "            for file_name in os.listdir(dir_path):\n",
    "                image_path = os.path.join(dir_path, file_name)\n",
    "                image = Image.open(image_path).convert('RGB')\n",
    "                if self.transform:\n",
    "                    image = self.transform(image)\n",
    "                self.images.append(image)\n",
    "                self.labels.append(label)\n",
    "\n",
    "        self.label_to_index = {'cat': 0, 'dog': 1}\n",
    "        self.labels = [self.label_to_index[label] for label in self.labels]\n",
    "\n",
    "    def __len__(self):\n",
    "        return len(self.images)\n",
    "\n",
    "    def __getitem__(self, idx):\n",
    "        image = self.images[idx]\n",
    "        label = self.labels[idx]\n",
    "        return image, label"
   ]
  },
  {
   "cell_type": "code",
   "execution_count": 6,
   "metadata": {},
   "outputs": [],
   "source": [
    "train_transform = transforms.Compose([\n",
    "    transforms.RandomHorizontalFlip(),\n",
    "    transforms.RandomVerticalFlip(),\n",
    "    transforms.RandomRotation(45),\n",
    "    transforms.ColorJitter(brightness=0.2, contrast=0.2, saturation=0.2, hue=0.2),\n",
    "    transforms.RandomResizedCrop(32, scale=(0.8, 1.0)),\n",
    "    transforms.Resize((32, 32)),\n",
    "    transforms.ToTensor(),\n",
    "])\n",
    "\n",
    "test_transform = transforms.Compose([\n",
    "    transforms.Resize((32, 32)),\n",
    "    transforms.ToTensor(),\n",
    "])"
   ]
  },
  {
   "cell_type": "code",
   "execution_count": 7,
   "metadata": {},
   "outputs": [
    {
     "name": "stdout",
     "output_type": "stream",
     "text": [
      "number of dataset: 1000\n"
     ]
    }
   ],
   "source": [
    "dataset = CustomDataset(dir_paths=[cat_image_path, dog_image_path], transform=test_transform)\n",
    "\n",
    "print(f\"number of dataset: {len(dataset)}\")"
   ]
  },
  {
   "cell_type": "code",
   "execution_count": 8,
   "metadata": {},
   "outputs": [
    {
     "name": "stdout",
     "output_type": "stream",
     "text": [
      "number of train dataset: 700\n",
      "number of valid dataset: 150\n",
      "number of test dataset: 150\n"
     ]
    }
   ],
   "source": [
    "train_size = int(0.7 * len(dataset))\n",
    "valid_size = int(0.15 * len(dataset))\n",
    "test_size = len(dataset) - train_size - valid_size\n",
    "train_dataset, valid_dataset, test_dataset = random_split(dataset, [train_size, valid_size, test_size])\n",
    "\n",
    "print(f\"number of train dataset: {len(train_dataset)}\")\n",
    "print(f\"number of valid dataset: {len(valid_dataset)}\")\n",
    "print(f\"number of test dataset: {len(test_dataset)}\")"
   ]
  },
  {
   "cell_type": "code",
   "execution_count": 9,
   "metadata": {},
   "outputs": [],
   "source": [
    "train_dataset.dataset.transform = train_transform"
   ]
  },
  {
   "cell_type": "code",
   "execution_count": 10,
   "metadata": {},
   "outputs": [
    {
     "name": "stdout",
     "output_type": "stream",
     "text": [
      "data shape: torch.Size([16, 3, 32, 32])\n",
      "label shape: torch.Size([16])\n"
     ]
    }
   ],
   "source": [
    "batch_size = 16\n",
    "\n",
    "train_loader = DataLoader(train_dataset, batch_size=batch_size, shuffle=True)\n",
    "valid_loader = DataLoader(valid_dataset, batch_size=batch_size, shuffle=False)\n",
    "test_loader = DataLoader(test_dataset, batch_size=batch_size, shuffle=False)\n",
    "\n",
    "for image, label in train_loader:\n",
    "    print(f\"data shape: {image.size()}\")\n",
    "    print(f\"label shape: {label.size()}\")\n",
    "    break"
   ]
  },
  {
   "cell_type": "markdown",
   "metadata": {},
   "source": [
    "# HyperParameter"
   ]
  },
  {
   "cell_type": "code",
   "execution_count": 11,
   "metadata": {},
   "outputs": [],
   "source": [
    "input_size = 32 * 32 * 3\n",
    "hidden_size = 128\n",
    "learning_rate = 0.0001\n",
    "num_epochs = 100\n",
    "weight_decay = 1e-4"
   ]
  },
  {
   "cell_type": "markdown",
   "metadata": {},
   "source": [
    "# Weight Initalize"
   ]
  },
  {
   "cell_type": "code",
   "execution_count": 12,
   "metadata": {},
   "outputs": [],
   "source": [
    "import torch.nn as nn"
   ]
  },
  {
   "cell_type": "code",
   "execution_count": 13,
   "metadata": {},
   "outputs": [],
   "source": [
    "def weights_init(m):\n",
    "    if isinstance(m, nn.Linear):\n",
    "        nn.init.kaiming_normal_(m.weight)\n",
    "        if m.bias is not None:\n",
    "            nn.init.zeros_(m.bias)"
   ]
  },
  {
   "cell_type": "markdown",
   "metadata": {},
   "source": [
    "# Model"
   ]
  },
  {
   "cell_type": "code",
   "execution_count": 14,
   "metadata": {},
   "outputs": [],
   "source": [
    "class SimpleCNN(nn.Module):\n",
    "    def __init__(self, input_channels, num_classes, dropout_prob=0.5):\n",
    "        super(SimpleCNN, self).__init__()\n",
    "        self.conv1 = nn.Conv2d(in_channels=input_channels, out_channels=16, kernel_size=3, stride=1, padding=1)\n",
    "        self.conv2 = nn.Conv2d(in_channels=16, out_channels=32, kernel_size=3, stride=1, padding=1)\n",
    "        self.pool = nn.MaxPool2d(kernel_size=2, stride=2, padding=0)\n",
    "        self.fc1 = nn.Linear(32 * 8 * 8, 64)  # Adjust input size based on the feature map size\n",
    "        self.fc2 = nn.Linear(64, num_classes)\n",
    "        self.relu = nn.ReLU()\n",
    "        self.dropout = nn.Dropout(dropout_prob)\n",
    "        self.sigmoid = nn.Sigmoid()\n",
    "\n",
    "    def forward(self, x):\n",
    "        x = self.pool(self.relu(self.conv1(x)))\n",
    "        x = self.pool(self.relu(self.conv2(x)))\n",
    "        x = torch.flatten(x, start_dim=1)\n",
    "        x = self.dropout(self.relu(self.fc1(x)))\n",
    "        x = self.fc2(x)\n",
    "        x = self.sigmoid(x)\n",
    "        return x\n",
    "\n",
    "# Example usage:\n",
    "input_channels = 3  # For RGB images\n",
    "num_classes = 1  # Binary classification\n",
    "dropout_prob = 0.5\n",
    "\n",
    "model = SimpleCNN(input_channels=input_channels, num_classes=num_classes, dropout_prob=dropout_prob)"
   ]
  },
  {
   "cell_type": "code",
   "execution_count": 15,
   "metadata": {},
   "outputs": [
    {
     "name": "stdout",
     "output_type": "stream",
     "text": [
      "conv1.weight: 432 parameters\n",
      "conv1.bias: 16 parameters\n",
      "conv2.weight: 4608 parameters\n",
      "conv2.bias: 32 parameters\n",
      "fc1.weight: 131072 parameters\n",
      "fc1.bias: 64 parameters\n",
      "fc2.weight: 64 parameters\n",
      "fc2.bias: 1 parameters\n",
      "Total parameters: 136289\n"
     ]
    }
   ],
   "source": [
    "def count_parameters(model):\n",
    "    total_params = sum(p.numel() for p in model.parameters())\n",
    "\n",
    "    return total_params\n",
    "\n",
    "def print_model_parameters(model):\n",
    "    for name, param in model.named_parameters():\n",
    "        print(f\"{name}: {param.numel()} parameters\")\n",
    "    print(f\"Total parameters: {count_parameters(model)}\")\n",
    "\n",
    "print_model_parameters(model)"
   ]
  },
  {
   "cell_type": "markdown",
   "metadata": {},
   "source": [
    "# Loss"
   ]
  },
  {
   "cell_type": "code",
   "execution_count": 16,
   "metadata": {},
   "outputs": [],
   "source": [
    "criterion = nn.BCELoss()"
   ]
  },
  {
   "cell_type": "markdown",
   "metadata": {},
   "source": [
    "# Optimizer"
   ]
  },
  {
   "cell_type": "code",
   "execution_count": 17,
   "metadata": {},
   "outputs": [],
   "source": [
    "import torch.optim as optim"
   ]
  },
  {
   "cell_type": "code",
   "execution_count": 18,
   "metadata": {},
   "outputs": [],
   "source": [
    "optimizer = optim.Adam(model.parameters(), lr=learning_rate, weight_decay=weight_decay)"
   ]
  },
  {
   "cell_type": "markdown",
   "metadata": {},
   "source": [
    "# Train"
   ]
  },
  {
   "cell_type": "code",
   "execution_count": 19,
   "metadata": {},
   "outputs": [
    {
     "name": "stdout",
     "output_type": "stream",
     "text": [
      "Epoch 1/100, Loss: 0.6943\n",
      "Epoch 1/100, Validation Loss: 0.6920\n",
      "Epoch 2/100, Loss: 0.6924\n",
      "Epoch 2/100, Validation Loss: 0.6931\n",
      "Epoch 3/100, Loss: 0.6929\n",
      "Epoch 3/100, Validation Loss: 0.6919\n",
      "Epoch 4/100, Loss: 0.6919\n",
      "Epoch 4/100, Validation Loss: 0.6947\n",
      "Epoch 5/100, Loss: 0.6892\n",
      "Epoch 5/100, Validation Loss: 0.6882\n",
      "Epoch 6/100, Loss: 0.6923\n",
      "Epoch 6/100, Validation Loss: 0.6931\n",
      "Epoch 7/100, Loss: 0.6890\n",
      "Epoch 7/100, Validation Loss: 0.6835\n",
      "Epoch 8/100, Loss: 0.6871\n",
      "Epoch 8/100, Validation Loss: 0.6810\n",
      "Epoch 9/100, Loss: 0.6877\n",
      "Epoch 9/100, Validation Loss: 0.6869\n",
      "Epoch 10/100, Loss: 0.6818\n",
      "Epoch 10/100, Validation Loss: 0.6749\n",
      "Epoch 11/100, Loss: 0.6800\n",
      "Epoch 11/100, Validation Loss: 0.6775\n",
      "Epoch 12/100, Loss: 0.6791\n",
      "Epoch 12/100, Validation Loss: 0.6705\n",
      "Epoch 13/100, Loss: 0.6793\n",
      "Epoch 13/100, Validation Loss: 0.6642\n",
      "Epoch 14/100, Loss: 0.6737\n",
      "Epoch 14/100, Validation Loss: 0.6580\n",
      "Epoch 15/100, Loss: 0.6618\n",
      "Epoch 15/100, Validation Loss: 0.6615\n",
      "Epoch 16/100, Loss: 0.6606\n",
      "Epoch 16/100, Validation Loss: 0.6547\n",
      "Epoch 17/100, Loss: 0.6613\n",
      "Epoch 17/100, Validation Loss: 0.6474\n",
      "Epoch 18/100, Loss: 0.6521\n",
      "Epoch 18/100, Validation Loss: 0.6356\n",
      "Epoch 19/100, Loss: 0.6486\n",
      "Epoch 19/100, Validation Loss: 0.6327\n",
      "Epoch 20/100, Loss: 0.6498\n",
      "Epoch 20/100, Validation Loss: 0.6369\n",
      "Epoch 21/100, Loss: 0.6436\n",
      "Epoch 21/100, Validation Loss: 0.6335\n",
      "Epoch 22/100, Loss: 0.6372\n",
      "Epoch 22/100, Validation Loss: 0.6169\n",
      "Epoch 23/100, Loss: 0.6366\n",
      "Epoch 23/100, Validation Loss: 0.6171\n",
      "Epoch 24/100, Loss: 0.6308\n",
      "Epoch 24/100, Validation Loss: 0.6244\n",
      "Epoch 25/100, Loss: 0.6315\n",
      "Epoch 25/100, Validation Loss: 0.6150\n",
      "Epoch 26/100, Loss: 0.6310\n",
      "Epoch 26/100, Validation Loss: 0.6302\n",
      "Epoch 27/100, Loss: 0.6235\n",
      "Epoch 27/100, Validation Loss: 0.6045\n",
      "Epoch 28/100, Loss: 0.6212\n",
      "Epoch 28/100, Validation Loss: 0.6027\n",
      "Epoch 29/100, Loss: 0.6193\n",
      "Epoch 29/100, Validation Loss: 0.6030\n",
      "Epoch 30/100, Loss: 0.6133\n",
      "Epoch 30/100, Validation Loss: 0.6049\n",
      "Epoch 31/100, Loss: 0.6180\n",
      "Epoch 31/100, Validation Loss: 0.6113\n",
      "Epoch 32/100, Loss: 0.6105\n",
      "Epoch 32/100, Validation Loss: 0.6032\n",
      "Epoch 33/100, Loss: 0.6087\n",
      "Epoch 33/100, Validation Loss: 0.6146\n",
      "Epoch 34/100, Loss: 0.6015\n",
      "Epoch 34/100, Validation Loss: 0.6010\n",
      "Epoch 35/100, Loss: 0.6058\n",
      "Epoch 35/100, Validation Loss: 0.6024\n",
      "Epoch 36/100, Loss: 0.6026\n",
      "Epoch 36/100, Validation Loss: 0.5892\n",
      "Epoch 37/100, Loss: 0.5954\n",
      "Epoch 37/100, Validation Loss: 0.5822\n",
      "Epoch 38/100, Loss: 0.5939\n",
      "Epoch 38/100, Validation Loss: 0.5943\n",
      "Epoch 39/100, Loss: 0.5893\n",
      "Epoch 39/100, Validation Loss: 0.5856\n",
      "Epoch 40/100, Loss: 0.5897\n",
      "Epoch 40/100, Validation Loss: 0.5948\n",
      "Epoch 41/100, Loss: 0.5870\n",
      "Epoch 41/100, Validation Loss: 0.6008\n",
      "Epoch 42/100, Loss: 0.5913\n",
      "Epoch 42/100, Validation Loss: 0.5887\n",
      "Epoch 43/100, Loss: 0.5872\n",
      "Epoch 43/100, Validation Loss: 0.5879\n",
      "Epoch 44/100, Loss: 0.5647\n",
      "Epoch 44/100, Validation Loss: 0.5704\n",
      "Epoch 45/100, Loss: 0.5754\n",
      "Epoch 45/100, Validation Loss: 0.5854\n",
      "Epoch 46/100, Loss: 0.5753\n",
      "Epoch 46/100, Validation Loss: 0.5856\n",
      "Epoch 47/100, Loss: 0.5765\n",
      "Epoch 47/100, Validation Loss: 0.5659\n",
      "Epoch 48/100, Loss: 0.5728\n",
      "Epoch 48/100, Validation Loss: 0.6165\n",
      "Epoch 49/100, Loss: 0.5610\n",
      "Epoch 49/100, Validation Loss: 0.5707\n",
      "Epoch 50/100, Loss: 0.5638\n",
      "Epoch 50/100, Validation Loss: 0.5778\n",
      "Epoch 51/100, Loss: 0.5678\n",
      "Epoch 51/100, Validation Loss: 0.5681\n",
      "Epoch 52/100, Loss: 0.5735\n",
      "Epoch 52/100, Validation Loss: 0.5630\n",
      "Epoch 53/100, Loss: 0.5591\n",
      "Epoch 53/100, Validation Loss: 0.6130\n",
      "Epoch 54/100, Loss: 0.5579\n",
      "Epoch 54/100, Validation Loss: 0.5716\n",
      "Epoch 55/100, Loss: 0.5556\n",
      "Epoch 55/100, Validation Loss: 0.5576\n",
      "Epoch 56/100, Loss: 0.5582\n",
      "Epoch 56/100, Validation Loss: 0.5683\n",
      "Epoch 57/100, Loss: 0.5517\n",
      "Epoch 57/100, Validation Loss: 0.5945\n",
      "Epoch 58/100, Loss: 0.5479\n",
      "Epoch 58/100, Validation Loss: 0.5816\n",
      "Epoch 59/100, Loss: 0.5374\n",
      "Epoch 59/100, Validation Loss: 0.5596\n",
      "Epoch 60/100, Loss: 0.5351\n",
      "Epoch 60/100, Validation Loss: 0.5774\n",
      "Epoch 61/100, Loss: 0.5309\n",
      "Epoch 61/100, Validation Loss: 0.5554\n",
      "Epoch 62/100, Loss: 0.5423\n",
      "Epoch 62/100, Validation Loss: 0.5613\n",
      "Epoch 63/100, Loss: 0.5292\n",
      "Epoch 63/100, Validation Loss: 0.5491\n",
      "Epoch 64/100, Loss: 0.5360\n",
      "Epoch 64/100, Validation Loss: 0.5820\n",
      "Epoch 65/100, Loss: 0.5298\n",
      "Epoch 65/100, Validation Loss: 0.5659\n",
      "Epoch 66/100, Loss: 0.5197\n",
      "Epoch 66/100, Validation Loss: 0.5697\n",
      "Epoch 67/100, Loss: 0.5207\n",
      "Epoch 67/100, Validation Loss: 0.5683\n",
      "Epoch 68/100, Loss: 0.5119\n",
      "Epoch 68/100, Validation Loss: 0.5701\n",
      "Epoch 69/100, Loss: 0.5200\n",
      "Epoch 69/100, Validation Loss: 0.5626\n",
      "Epoch 70/100, Loss: 0.5230\n",
      "Epoch 70/100, Validation Loss: 0.5438\n",
      "Epoch 71/100, Loss: 0.5079\n",
      "Epoch 71/100, Validation Loss: 0.5640\n",
      "Epoch 72/100, Loss: 0.5051\n",
      "Epoch 72/100, Validation Loss: 0.5680\n",
      "Epoch 73/100, Loss: 0.5102\n",
      "Epoch 73/100, Validation Loss: 0.5417\n",
      "Epoch 74/100, Loss: 0.5043\n",
      "Epoch 74/100, Validation Loss: 0.5511\n",
      "Epoch 75/100, Loss: 0.5003\n",
      "Epoch 75/100, Validation Loss: 0.5932\n",
      "Epoch 76/100, Loss: 0.4975\n",
      "Epoch 76/100, Validation Loss: 0.5516\n",
      "Epoch 77/100, Loss: 0.4932\n",
      "Epoch 77/100, Validation Loss: 0.5516\n",
      "Epoch 78/100, Loss: 0.4989\n",
      "Epoch 78/100, Validation Loss: 0.5588\n",
      "Epoch 79/100, Loss: 0.4988\n",
      "Epoch 79/100, Validation Loss: 0.6011\n",
      "Epoch 80/100, Loss: 0.4987\n",
      "Epoch 80/100, Validation Loss: 0.5632\n",
      "Epoch 81/100, Loss: 0.4750\n",
      "Epoch 81/100, Validation Loss: 0.5463\n",
      "Epoch 82/100, Loss: 0.4822\n",
      "Epoch 82/100, Validation Loss: 0.5447\n",
      "Epoch 83/100, Loss: 0.4816\n",
      "Epoch 83/100, Validation Loss: 0.5734\n",
      "Early stopping triggered. Stopping training after epoch 83.\n",
      "Training stopped early after 83 epochs.\n"
     ]
    }
   ],
   "source": [
    "patience = 10\n",
    "best_val_loss = float('inf')\n",
    "patience_counter = 0\n",
    "early_stopping_triggered = False\n",
    "\n",
    "train_losses = []\n",
    "valid_losses = []\n",
    "\n",
    "for epoch in range(num_epochs):\n",
    "    model.train()\n",
    "    running_loss = 0.0\n",
    "    for images, labels in train_loader:\n",
    "        labels = labels.float().view(-1, 1)\n",
    "\n",
    "        outputs = model(images)\n",
    "        loss = criterion(outputs, labels)\n",
    "\n",
    "        optimizer.zero_grad()\n",
    "        loss.backward()\n",
    "        optimizer.step()\n",
    "\n",
    "        running_loss += loss.item() * images.size(0)\n",
    "\n",
    "    epoch_loss = running_loss / len(train_loader.dataset)\n",
    "    train_losses.append(epoch_loss)\n",
    "\n",
    "    print(f'Epoch {epoch + 1}/{num_epochs}, Loss: {epoch_loss:.4f}')\n",
    "\n",
    "    model.eval()\n",
    "    val_running_loss = 0.0\n",
    "    with torch.no_grad():\n",
    "        for images, labels in valid_loader:\n",
    "\n",
    "            labels = labels.float().view(-1, 1)\n",
    "            outputs = model(images)\n",
    "            loss = criterion(outputs, labels)\n",
    "            val_running_loss += loss.item() * images.size(0)\n",
    "\n",
    "    val_epoch_loss = val_running_loss / len(valid_loader.dataset)\n",
    "    valid_losses.append(val_epoch_loss)\n",
    "    print(f'Epoch {epoch + 1}/{num_epochs}, Validation Loss: {val_epoch_loss:.4f}')\n",
    "\n",
    "    if val_epoch_loss < best_val_loss:\n",
    "        best_val_loss = val_epoch_loss\n",
    "        patience_counter = 0\n",
    "    else:\n",
    "        patience_counter += 1\n",
    "\n",
    "    if patience_counter >= patience:\n",
    "        print(f'Early stopping triggered. Stopping training after epoch {epoch + 1}.')\n",
    "        early_stopping_triggered = True\n",
    "        plot_epoch = epoch + 2\n",
    "        break\n",
    "\n",
    "if not early_stopping_triggered:\n",
    "    print(f'Finished training after {num_epochs} epochs.')\n",
    "else:\n",
    "    print(f'Training stopped early after {epoch + 1} epochs.')"
   ]
  },
  {
   "cell_type": "code",
   "execution_count": 20,
   "metadata": {},
   "outputs": [],
   "source": [
    "import matplotlib.pyplot as plt"
   ]
  },
  {
   "cell_type": "code",
   "execution_count": 21,
   "metadata": {},
   "outputs": [
    {
     "data": {
      "image/png": "[encoded data removed]",
      "text/plain": [
       "<Figure size 640x480 with 1 Axes>"
      ]
     },
     "metadata": {},
     "output_type": "display_data"
    }
   ],
   "source": [
    "plt.plot(range(1, plot_epoch), train_losses, label='Train Loss')\n",
    "plt.plot(range(1, plot_epoch), valid_losses, label='Validation Loss')\n",
    "plt.xlabel('Epochs')\n",
    "plt.ylabel('Loss')\n",
    "plt.legend()\n",
    "plt.show()"
   ]
  },
  {
   "cell_type": "markdown",
   "metadata": {},
   "source": [
    "# Predict"
   ]
  },
  {
   "cell_type": "code",
   "execution_count": 22,
   "metadata": {},
   "outputs": [
    {
     "name": "stdout",
     "output_type": "stream",
     "text": [
      "Test Set Accuracy: 63.33%\n"
     ]
    }
   ],
   "source": [
    "model.eval()\n",
    "correct = 0\n",
    "total = 0\n",
    "\n",
    "with torch.no_grad():\n",
    "    for images, labels in test_loader:\n",
    "        labels = labels.float().view(-1, 1)\n",
    "\n",
    "        outputs = model(images)\n",
    "\n",
    "        predicted = (outputs > 0.5).float()\n",
    "\n",
    "        total += labels.size(0)\n",
    "        correct += (predicted == labels).sum().item()\n",
    "\n",
    "accuracy = correct / total\n",
    "print(f\"Test Set Accuracy: {accuracy * 100:.2f}%\")"
   ]
  },
  {
   "cell_type": "code",
   "execution_count": null,
   "metadata": {},
   "outputs": [],
   "source": []
  }
 ],
 "metadata": {
  "kernelspec": {
   "display_name": "Python 3",
   "language": "python",
   "name": "python3"
  },
  "language_info": {
   "codemirror_mode": {
    "name": "ipython",
    "version": 3
   },
   "file_extension": ".py",
   "mimetype": "text/x-python",
   "name": "python",
   "nbconvert_exporter": "python",
   "pygments_lexer": "ipython3",
   "version": "3.10.12"
  }
 },
 "nbformat": 4,
 "nbformat_minor": 2
}
