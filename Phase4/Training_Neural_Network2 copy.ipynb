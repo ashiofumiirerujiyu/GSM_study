{
 "cells": [
  {
   "cell_type": "markdown",
   "metadata": {},
   "source": [
    "# Seed"
   ]
  },
  {
   "cell_type": "code",
   "execution_count": 1,
   "metadata": {},
   "outputs": [],
   "source": [
    "import random\n",
    "import torch\n",
    "import numpy as np"
   ]
  },
  {
   "cell_type": "code",
   "execution_count": 2,
   "metadata": {},
   "outputs": [],
   "source": [
    "def seed_everything(seed=5):\n",
    "    random.seed(seed)\n",
    "    np.random.seed(seed)\n",
    "\n",
    "    torch.manual_seed(seed)\n",
    "    if torch.cuda.is_available():\n",
    "        torch.cuda.manual_seed(seed)\n",
    "        torch.cuda.manual_seed_all(seed)\n",
    "\n",
    "    torch.backends.cudnn.deterministic = True\n",
    "    torch.backends.cudnn.benchmark = False\n",
    "\n",
    "seed_everything()"
   ]
  },
  {
   "cell_type": "markdown",
   "metadata": {},
   "source": [
    "# DataSet"
   ]
  },
  {
   "cell_type": "code",
   "execution_count": 3,
   "metadata": {},
   "outputs": [],
   "source": [
    "import os\n",
    "from PIL import Image\n",
    "from torch.utils.data import Dataset, DataLoader, random_split\n",
    "from torchvision import transforms"
   ]
  },
  {
   "cell_type": "code",
   "execution_count": 4,
   "metadata": {},
   "outputs": [],
   "source": [
    "cat_image_path = \"../data/cifar10_images/cat\"\n",
    "dog_image_path = \"../data/cifar10_images/dog\""
   ]
  },
  {
   "cell_type": "code",
   "execution_count": 5,
   "metadata": {},
   "outputs": [],
   "source": [
    "class CustomDataset(Dataset):\n",
    "    def __init__(self, dir_paths, transform=None):\n",
    "        self.images = []\n",
    "        self.labels = []\n",
    "        self.transform = transform\n",
    "\n",
    "        for dir_path in dir_paths:\n",
    "            label = os.path.basename(dir_path)\n",
    "            for file_name in os.listdir(dir_path):\n",
    "                image_path = os.path.join(dir_path, file_name)\n",
    "                image = Image.open(image_path).convert('RGB')\n",
    "                if self.transform:\n",
    "                    image = self.transform(image)\n",
    "                self.images.append(image)\n",
    "                self.labels.append(label)\n",
    "\n",
    "        self.label_to_index = {'cat': 0, 'dog': 1}\n",
    "        self.labels = [self.label_to_index[label] for label in self.labels]\n",
    "\n",
    "    def __len__(self):\n",
    "        return len(self.images)\n",
    "\n",
    "    def __getitem__(self, idx):\n",
    "        image = self.images[idx]\n",
    "        label = self.labels[idx]\n",
    "        return image, label"
   ]
  },
  {
   "cell_type": "code",
   "execution_count": 6,
   "metadata": {},
   "outputs": [],
   "source": [
    "train_transform = transforms.Compose([\n",
    "    transforms.RandomHorizontalFlip(),\n",
    "    transforms.RandomVerticalFlip(),\n",
    "    transforms.RandomRotation(45),\n",
    "    transforms.ColorJitter(brightness=0.2, contrast=0.2, saturation=0.2, hue=0.2),\n",
    "    transforms.RandomResizedCrop(32, scale=(0.8, 1.0)),\n",
    "    transforms.Resize((32, 32)),\n",
    "    transforms.ToTensor(),\n",
    "])\n",
    "\n",
    "test_transform = transforms.Compose([\n",
    "    transforms.Resize((32, 32)),\n",
    "    transforms.ToTensor(),\n",
    "])"
   ]
  },
  {
   "cell_type": "code",
   "execution_count": 7,
   "metadata": {},
   "outputs": [
    {
     "name": "stdout",
     "output_type": "stream",
     "text": [
      "number of dataset: 1000\n"
     ]
    }
   ],
   "source": [
    "dataset = CustomDataset(dir_paths=[cat_image_path, dog_image_path], transform=test_transform)\n",
    "\n",
    "print(f\"number of dataset: {len(dataset)}\")"
   ]
  },
  {
   "cell_type": "code",
   "execution_count": 8,
   "metadata": {},
   "outputs": [
    {
     "name": "stdout",
     "output_type": "stream",
     "text": [
      "number of train dataset: 700\n",
      "number of valid dataset: 150\n",
      "number of test dataset: 150\n"
     ]
    }
   ],
   "source": [
    "train_size = int(0.7 * len(dataset))\n",
    "valid_size = int(0.15 * len(dataset))\n",
    "test_size = len(dataset) - train_size - valid_size\n",
    "train_dataset, valid_dataset, test_dataset = random_split(dataset, [train_size, valid_size, test_size])\n",
    "\n",
    "print(f\"number of train dataset: {len(train_dataset)}\")\n",
    "print(f\"number of valid dataset: {len(valid_dataset)}\")\n",
    "print(f\"number of test dataset: {len(test_dataset)}\")"
   ]
  },
  {
   "cell_type": "code",
   "execution_count": 9,
   "metadata": {},
   "outputs": [],
   "source": [
    "train_dataset.dataset.transform = train_transform"
   ]
  },
  {
   "cell_type": "code",
   "execution_count": 10,
   "metadata": {},
   "outputs": [
    {
     "name": "stdout",
     "output_type": "stream",
     "text": [
      "data shape: torch.Size([16, 3, 32, 32])\n",
      "label shape: torch.Size([16])\n"
     ]
    }
   ],
   "source": [
    "batch_size = 16\n",
    "\n",
    "train_loader = DataLoader(train_dataset, batch_size=batch_size, shuffle=True)\n",
    "valid_loader = DataLoader(valid_dataset, batch_size=batch_size, shuffle=False)\n",
    "test_loader = DataLoader(test_dataset, batch_size=batch_size, shuffle=False)\n",
    "\n",
    "for image, label in train_loader:\n",
    "    print(f\"data shape: {image.size()}\")\n",
    "    print(f\"label shape: {label.size()}\")\n",
    "    break"
   ]
  },
  {
   "cell_type": "markdown",
   "metadata": {},
   "source": [
    "# HyperParameter"
   ]
  },
  {
   "cell_type": "code",
   "execution_count": 11,
   "metadata": {},
   "outputs": [],
   "source": [
    "input_size = 32 * 32 * 3\n",
    "hidden_size = 128\n",
    "learning_rate = 0.0001\n",
    "num_epochs = 100\n",
    "weight_decay = 1e-4"
   ]
  },
  {
   "cell_type": "markdown",
   "metadata": {},
   "source": [
    "# Weight Initalize"
   ]
  },
  {
   "cell_type": "code",
   "execution_count": 12,
   "metadata": {},
   "outputs": [],
   "source": [
    "import torch.nn as nn"
   ]
  },
  {
   "cell_type": "code",
   "execution_count": 13,
   "metadata": {},
   "outputs": [],
   "source": [
    "def weights_init(m):\n",
    "    if isinstance(m, nn.Linear):\n",
    "        nn.init.kaiming_normal_(m.weight)\n",
    "        if m.bias is not None:\n",
    "            nn.init.zeros_(m.bias)"
   ]
  },
  {
   "cell_type": "markdown",
   "metadata": {},
   "source": [
    "# Model"
   ]
  },
  {
   "cell_type": "code",
   "execution_count": 14,
   "metadata": {},
   "outputs": [],
   "source": [
    "class SimpleCNN(nn.Module):\n",
    "    def __init__(self, input_channels, num_classes, dropout_prob=0.5):\n",
    "        super(SimpleCNN, self).__init__()\n",
    "        self.conv1 = nn.Conv2d(in_channels=input_channels, out_channels=32, kernel_size=3, stride=1, padding=1)\n",
    "        self.conv2 = nn.Conv2d(in_channels=32, out_channels=64, kernel_size=3, stride=1, padding=1)\n",
    "        self.conv3 = nn.Conv2d(in_channels=64, out_channels=128, kernel_size=3, stride=1, padding=1)\n",
    "        self.pool = nn.MaxPool2d(kernel_size=2, stride=2, padding=0)\n",
    "        self.fc1 = nn.Linear(128 * 4 * 4, 256)\n",
    "        self.fc2 = nn.Linear(256, num_classes)\n",
    "        self.relu = nn.ReLU()\n",
    "        self.dropout = nn.Dropout(dropout_prob)\n",
    "        self.sigmoid = nn.Sigmoid()\n",
    "\n",
    "    def forward(self, x):\n",
    "        x = self.pool(self.relu(self.conv1(x)))\n",
    "        x = self.pool(self.relu(self.conv2(x)))\n",
    "        x = self.pool(self.relu(self.conv3(x)))\n",
    "        x = torch.flatten(x, start_dim=1)\n",
    "        x = self.dropout(self.relu(self.fc1(x)))\n",
    "        x = self.fc2(x)\n",
    "        x = self.sigmoid(x)\n",
    "        return x\n",
    "\n",
    "input_channels = 3\n",
    "num_classes = 1\n",
    "dropout_prob = 0.5\n",
    "\n",
    "model = SimpleCNN(input_channels=input_channels, num_classes=num_classes, dropout_prob=dropout_prob)"
   ]
  },
  {
   "cell_type": "code",
   "execution_count": 15,
   "metadata": {},
   "outputs": [
    {
     "name": "stdout",
     "output_type": "stream",
     "text": [
      "conv1.weight: 864 parameters\n",
      "conv1.bias: 32 parameters\n",
      "conv2.weight: 18432 parameters\n",
      "conv2.bias: 64 parameters\n",
      "conv3.weight: 73728 parameters\n",
      "conv3.bias: 128 parameters\n",
      "fc1.weight: 524288 parameters\n",
      "fc1.bias: 256 parameters\n",
      "fc2.weight: 256 parameters\n",
      "fc2.bias: 1 parameters\n",
      "Total parameters: 618049\n"
     ]
    }
   ],
   "source": [
    "def count_parameters(model):\n",
    "    total_params = sum(p.numel() for p in model.parameters())\n",
    "\n",
    "    return total_params\n",
    "\n",
    "def print_model_parameters(model):\n",
    "    for name, param in model.named_parameters():\n",
    "        print(f\"{name}: {param.numel()} parameters\")\n",
    "    print(f\"Total parameters: {count_parameters(model)}\")\n",
    "\n",
    "print_model_parameters(model)"
   ]
  },
  {
   "cell_type": "markdown",
   "metadata": {},
   "source": [
    "# Loss"
   ]
  },
  {
   "cell_type": "code",
   "execution_count": 16,
   "metadata": {},
   "outputs": [],
   "source": [
    "criterion = nn.BCELoss()"
   ]
  },
  {
   "cell_type": "markdown",
   "metadata": {},
   "source": [
    "# Optimizer"
   ]
  },
  {
   "cell_type": "code",
   "execution_count": 17,
   "metadata": {},
   "outputs": [],
   "source": [
    "import torch.optim as optim"
   ]
  },
  {
   "cell_type": "code",
   "execution_count": 18,
   "metadata": {},
   "outputs": [],
   "source": [
    "optimizer = optim.Adam(model.parameters(), lr=learning_rate, weight_decay=weight_decay)"
   ]
  },
  {
   "cell_type": "markdown",
   "metadata": {},
   "source": [
    "# Train"
   ]
  },
  {
   "cell_type": "code",
   "execution_count": 19,
   "metadata": {},
   "outputs": [
    {
     "name": "stdout",
     "output_type": "stream",
     "text": [
      "Epoch 1/100, Loss: 0.6936\n",
      "Epoch 1/100, Validation Loss: 0.6934\n",
      "Epoch 2/100, Loss: 0.6929\n",
      "Epoch 2/100, Validation Loss: 0.6952\n",
      "Epoch 3/100, Loss: 0.6923\n",
      "Epoch 3/100, Validation Loss: 0.6890\n",
      "Epoch 4/100, Loss: 0.6902\n",
      "Epoch 4/100, Validation Loss: 0.6889\n",
      "Epoch 5/100, Loss: 0.6897\n",
      "Epoch 5/100, Validation Loss: 0.6884\n",
      "Epoch 6/100, Loss: 0.6876\n",
      "Epoch 6/100, Validation Loss: 0.6848\n",
      "Epoch 7/100, Loss: 0.6845\n",
      "Epoch 7/100, Validation Loss: 0.6762\n",
      "Epoch 8/100, Loss: 0.6799\n",
      "Epoch 8/100, Validation Loss: 0.6624\n",
      "Epoch 9/100, Loss: 0.6716\n",
      "Epoch 9/100, Validation Loss: 0.6474\n",
      "Epoch 10/100, Loss: 0.6631\n",
      "Epoch 10/100, Validation Loss: 0.6443\n",
      "Epoch 11/100, Loss: 0.6575\n",
      "Epoch 11/100, Validation Loss: 0.6505\n",
      "Epoch 12/100, Loss: 0.6439\n",
      "Epoch 12/100, Validation Loss: 0.6181\n",
      "Epoch 13/100, Loss: 0.6372\n",
      "Epoch 13/100, Validation Loss: 0.6128\n",
      "Epoch 14/100, Loss: 0.6301\n",
      "Epoch 14/100, Validation Loss: 0.6067\n",
      "Epoch 15/100, Loss: 0.6123\n",
      "Epoch 15/100, Validation Loss: 0.6034\n",
      "Epoch 16/100, Loss: 0.6181\n",
      "Epoch 16/100, Validation Loss: 0.5960\n",
      "Epoch 17/100, Loss: 0.6094\n",
      "Epoch 17/100, Validation Loss: 0.6025\n",
      "Epoch 18/100, Loss: 0.5985\n",
      "Epoch 18/100, Validation Loss: 0.5851\n",
      "Epoch 19/100, Loss: 0.5853\n",
      "Epoch 19/100, Validation Loss: 0.5697\n",
      "Epoch 20/100, Loss: 0.5873\n",
      "Epoch 20/100, Validation Loss: 0.5886\n",
      "Epoch 21/100, Loss: 0.5820\n",
      "Epoch 21/100, Validation Loss: 0.5683\n",
      "Epoch 22/100, Loss: 0.5752\n",
      "Epoch 22/100, Validation Loss: 0.5726\n",
      "Epoch 23/100, Loss: 0.5621\n",
      "Epoch 23/100, Validation Loss: 0.5666\n",
      "Epoch 24/100, Loss: 0.5536\n",
      "Epoch 24/100, Validation Loss: 0.5621\n",
      "Epoch 25/100, Loss: 0.5428\n",
      "Epoch 25/100, Validation Loss: 0.5828\n",
      "Epoch 26/100, Loss: 0.5345\n",
      "Epoch 26/100, Validation Loss: 0.5660\n",
      "Epoch 27/100, Loss: 0.5287\n",
      "Epoch 27/100, Validation Loss: 0.5502\n",
      "Epoch 28/100, Loss: 0.5196\n",
      "Epoch 28/100, Validation Loss: 0.5482\n",
      "Epoch 29/100, Loss: 0.5125\n",
      "Epoch 29/100, Validation Loss: 0.5559\n",
      "Epoch 30/100, Loss: 0.5060\n",
      "Epoch 30/100, Validation Loss: 0.5378\n",
      "Epoch 31/100, Loss: 0.4990\n",
      "Epoch 31/100, Validation Loss: 0.5799\n",
      "Epoch 32/100, Loss: 0.4930\n",
      "Epoch 32/100, Validation Loss: 0.5498\n",
      "Epoch 33/100, Loss: 0.4803\n",
      "Epoch 33/100, Validation Loss: 0.5453\n",
      "Epoch 34/100, Loss: 0.4711\n",
      "Epoch 34/100, Validation Loss: 0.5432\n",
      "Epoch 35/100, Loss: 0.4568\n",
      "Epoch 35/100, Validation Loss: 0.5634\n",
      "Epoch 36/100, Loss: 0.4525\n",
      "Epoch 36/100, Validation Loss: 0.5301\n",
      "Epoch 37/100, Loss: 0.4342\n",
      "Epoch 37/100, Validation Loss: 0.5367\n",
      "Epoch 38/100, Loss: 0.4356\n",
      "Epoch 38/100, Validation Loss: 0.5588\n",
      "Epoch 39/100, Loss: 0.4176\n",
      "Epoch 39/100, Validation Loss: 0.5349\n",
      "Epoch 40/100, Loss: 0.4047\n",
      "Epoch 40/100, Validation Loss: 0.5200\n",
      "Epoch 41/100, Loss: 0.3964\n",
      "Epoch 41/100, Validation Loss: 0.5766\n",
      "Epoch 42/100, Loss: 0.3874\n",
      "Epoch 42/100, Validation Loss: 0.5616\n",
      "Epoch 43/100, Loss: 0.3745\n",
      "Epoch 43/100, Validation Loss: 0.5294\n",
      "Epoch 44/100, Loss: 0.3660\n",
      "Epoch 44/100, Validation Loss: 0.5115\n",
      "Epoch 45/100, Loss: 0.3561\n",
      "Epoch 45/100, Validation Loss: 0.5146\n",
      "Epoch 46/100, Loss: 0.3454\n",
      "Epoch 46/100, Validation Loss: 0.5403\n",
      "Epoch 47/100, Loss: 0.3358\n",
      "Epoch 47/100, Validation Loss: 0.5493\n",
      "Epoch 48/100, Loss: 0.3198\n",
      "Epoch 48/100, Validation Loss: 0.5386\n",
      "Epoch 49/100, Loss: 0.3279\n",
      "Epoch 49/100, Validation Loss: 0.5303\n",
      "Epoch 50/100, Loss: 0.3045\n",
      "Epoch 50/100, Validation Loss: 0.5355\n",
      "Epoch 51/100, Loss: 0.2971\n",
      "Epoch 51/100, Validation Loss: 0.5273\n",
      "Epoch 52/100, Loss: 0.2970\n",
      "Epoch 52/100, Validation Loss: 0.5438\n",
      "Epoch 53/100, Loss: 0.2829\n",
      "Epoch 53/100, Validation Loss: 0.5347\n",
      "Epoch 54/100, Loss: 0.2769\n",
      "Epoch 54/100, Validation Loss: 0.5412\n",
      "Early stopping triggered. Stopping training after epoch 54.\n",
      "Training stopped early after 54 epochs.\n"
     ]
    }
   ],
   "source": [
    "patience = 10\n",
    "best_val_loss = float('inf')\n",
    "patience_counter = 0\n",
    "early_stopping_triggered = False\n",
    "\n",
    "train_losses = []\n",
    "valid_losses = []\n",
    "\n",
    "for epoch in range(num_epochs):\n",
    "    model.train()\n",
    "    running_loss = 0.0\n",
    "    for images, labels in train_loader:\n",
    "        labels = labels.float().view(-1, 1)\n",
    "\n",
    "        outputs = model(images)\n",
    "        loss = criterion(outputs, labels)\n",
    "\n",
    "        optimizer.zero_grad()\n",
    "        loss.backward()\n",
    "        optimizer.step()\n",
    "\n",
    "        running_loss += loss.item() * images.size(0)\n",
    "\n",
    "    epoch_loss = running_loss / len(train_loader.dataset)\n",
    "    train_losses.append(epoch_loss)\n",
    "\n",
    "    print(f'Epoch {epoch + 1}/{num_epochs}, Loss: {epoch_loss:.4f}')\n",
    "\n",
    "    model.eval()\n",
    "    val_running_loss = 0.0\n",
    "    with torch.no_grad():\n",
    "        for images, labels in valid_loader:\n",
    "\n",
    "            labels = labels.float().view(-1, 1)\n",
    "            outputs = model(images)\n",
    "            loss = criterion(outputs, labels)\n",
    "            val_running_loss += loss.item() * images.size(0)\n",
    "\n",
    "    val_epoch_loss = val_running_loss / len(valid_loader.dataset)\n",
    "    valid_losses.append(val_epoch_loss)\n",
    "    print(f'Epoch {epoch + 1}/{num_epochs}, Validation Loss: {val_epoch_loss:.4f}')\n",
    "\n",
    "    if val_epoch_loss < best_val_loss:\n",
    "        best_val_loss = val_epoch_loss\n",
    "        patience_counter = 0\n",
    "    else:\n",
    "        patience_counter += 1\n",
    "\n",
    "    if patience_counter >= patience:\n",
    "        print(f'Early stopping triggered. Stopping training after epoch {epoch + 1}.')\n",
    "        early_stopping_triggered = True\n",
    "        plot_epoch = epoch + 2\n",
    "        break\n",
    "\n",
    "if not early_stopping_triggered:\n",
    "    print(f'Finished training after {num_epochs} epochs.')\n",
    "else:\n",
    "    print(f'Training stopped early after {epoch + 1} epochs.')"
   ]
  },
  {
   "cell_type": "code",
   "execution_count": 20,
   "metadata": {},
   "outputs": [],
   "source": [
    "import matplotlib.pyplot as plt"
   ]
  },
  {
   "cell_type": "code",
   "execution_count": 21,
   "metadata": {},
   "outputs": [
    {
     "data": {
      "image/png": "[encoded data removed]",
      "text/plain": [
       "<Figure size 640x480 with 1 Axes>"
      ]
     },
     "metadata": {},
     "output_type": "display_data"
    }
   ],
   "source": [
    "plt.plot(range(1, plot_epoch), train_losses, label='Train Loss')\n",
    "plt.plot(range(1, plot_epoch), valid_losses, label='Validation Loss')\n",
    "plt.xlabel('Epochs')\n",
    "plt.ylabel('Loss')\n",
    "plt.legend()\n",
    "plt.show()"
   ]
  },
  {
   "cell_type": "markdown",
   "metadata": {},
   "source": [
    "# Predict"
   ]
  },
  {
   "cell_type": "code",
   "execution_count": 22,
   "metadata": {},
   "outputs": [
    {
     "name": "stdout",
     "output_type": "stream",
     "text": [
      "Test Set Accuracy: 68.67%\n"
     ]
    }
   ],
   "source": [
    "model.eval()\n",
    "correct = 0\n",
    "total = 0\n",
    "\n",
    "with torch.no_grad():\n",
    "    for images, labels in test_loader:\n",
    "        labels = labels.float().view(-1, 1)\n",
    "\n",
    "        outputs = model(images)\n",
    "\n",
    "        predicted = (outputs > 0.5).float()\n",
    "\n",
    "        total += labels.size(0)\n",
    "        correct += (predicted == labels).sum().item()\n",
    "\n",
    "accuracy = correct / total\n",
    "print(f\"Test Set Accuracy: {accuracy * 100:.2f}%\")"
   ]
  },
  {
   "cell_type": "code",
   "execution_count": null,
   "metadata": {},
   "outputs": [],
   "source": []
  }
 ],
 "metadata": {
  "kernelspec": {
   "display_name": "Python 3",
   "language": "python",
   "name": "python3"
  },
  "language_info": {
   "codemirror_mode": {
    "name": "ipython",
    "version": 3
   },
   "file_extension": ".py",
   "mimetype": "text/x-python",
   "name": "python",
   "nbconvert_exporter": "python",
   "pygments_lexer": "ipython3",
   "version": "3.10.12"
  }
 },
 "nbformat": 4,
 "nbformat_minor": 2
}
